{
 "cells": [
  {
   "cell_type": "markdown",
   "metadata": {},
   "source": [
    "# **Variables**\n"
   ]
  },
  {
   "cell_type": "markdown",
   "metadata": {},
   "source": [
    "## **Tạo một biến**"
   ]
  },
  {
   "cell_type": "markdown",
   "metadata": {},
   "source": [
    "### **Note**\n",
    "\n",
    "* Một biến được tạo ra ngay sau khi mình gán giá trị cho nó \n",
    "* Biến không cần phải được khai báo với bất kỳ kiểu dữ liệu nào \n",
    "* Biến có thể thay đổi kiểu dữ liệu nngay cả sau khi đã thiết lặp"
   ]
  },
  {
   "cell_type": "markdown",
   "metadata": {},
   "source": [
    "Tên biến sẽ nằm ở phía bên trái của toán tử gán (=), và giá trị hoặc biểu thức mà bạn muốn gán cho biến đó sẽ nằm ở phía bên phải\n",
    "\n",
    "*Variable_name = value*"
   ]
  },
  {
   "cell_type": "markdown",
   "metadata": {},
   "source": [
    "## **Ví dụ**"
   ]
  },
  {
   "cell_type": "code",
   "execution_count": 1,
   "metadata": {},
   "outputs": [],
   "source": [
    "base_salary = 100000"
   ]
  },
  {
   "cell_type": "markdown",
   "metadata": {},
   "source": [
    "Mình cũng có thẻ sử dụng các phép toán lên biến "
   ]
  },
  {
   "cell_type": "code",
   "execution_count": 2,
   "metadata": {},
   "outputs": [],
   "source": [
    "bonus_rate = 0.1\n",
    "\n",
    "total_salary = base_salary * (1 + bonus_rate)"
   ]
  },
  {
   "cell_type": "code",
   "execution_count": 3,
   "metadata": {},
   "outputs": [
    {
     "name": "stdout",
     "output_type": "stream",
     "text": [
      "110000.00000000001\n"
     ]
    }
   ],
   "source": [
    "print(total_salary)"
   ]
  },
  {
   "cell_type": "markdown",
   "metadata": {},
   "source": [
    "## **Các biến có thể chứa bất kì dữ liệu gì, không nhất thiết phải là một số**"
   ]
  },
  {
   "cell_type": "markdown",
   "metadata": {},
   "source": [
    "### **Ví Dụ**"
   ]
  },
  {
   "cell_type": "code",
   "execution_count": 4,
   "metadata": {},
   "outputs": [],
   "source": [
    "job_id = 101\n",
    "company_name = 'DataWiz Inc.'\n",
    "job_title = 'Data Analyst'\n",
    "job_salary = 125000\n",
    "job_work_from_home = True"
   ]
  },
  {
   "cell_type": "code",
   "execution_count": 6,
   "metadata": {},
   "outputs": [
    {
     "name": "stdout",
     "output_type": "stream",
     "text": [
      "Job ID:       101\n",
      "Company Name: DataWiz Inc.\n",
      "Job Title:    Data Analyst\n",
      "Salary:       125000\n",
      "WFH:          True\n"
     ]
    }
   ],
   "source": [
    "# Hàm print sẽ không in ra tên biến\n",
    "print(\"Job ID:      \", job_id)\n",
    "print(\"Company Name:\", company_name)\n",
    "print(\"Job Title:   \", job_title)\n",
    "print(\"Salary:      \", job_salary)\n",
    "print(\"WFH:         \", job_work_from_home)"
   ]
  }
 ],
 "metadata": {
  "kernelspec": {
   "display_name": "Python 3",
   "language": "python",
   "name": "python3"
  },
  "language_info": {
   "codemirror_mode": {
    "name": "ipython",
    "version": 3
   },
   "file_extension": ".py",
   "mimetype": "text/x-python",
   "name": "python",
   "nbconvert_exporter": "python",
   "pygments_lexer": "ipython3",
   "version": "3.13.0"
  }
 },
 "nbformat": 4,
 "nbformat_minor": 2
}
