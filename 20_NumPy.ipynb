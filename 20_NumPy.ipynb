{
 "cells": [
  {
   "cell_type": "markdown",
   "metadata": {},
   "source": [
    "# NumPy"
   ]
  },
  {
   "cell_type": "markdown",
   "metadata": {},
   "source": [
    "## **Notes**\n",
    "\n",
    "* NumPy thư viện làm việc với mảng hiệu quả và ma trận mạng đa chiều lớn\n",
    "* Thư viện NumPy có tốc độ và hiệu quả trong các phép toán số học\n",
    "* Một số trường hợp sử dụng đặc biệt của NumPy trong phân tích dữ liệu:\n",
    "    * Các phép toán trên mảng\n",
    "    * Đại số tuyến tính\n",
    "    * Các hàm thống kê\n",
    "    * Sinh số ngẫu nhiên\n",
    "* **Tạo Mảng**:\n",
    "    * Vd: **`import numpy as np; np.array([1, 2, 3])`**\n",
    "* **Các Phép Toán Cơ Bản**: Các phép toán như `+`, `-`, `/`, `*` được thực hiện trên từng phần tử của mảng.\n",
    "* **Cắt Mảng**:\n",
    "    * Vd: **`array[1:3]`**: Lấy các phần tử từ chỉ số 1 đến chỉ số 3 (không bao gồm 3).\n",
    "* **Chỉ Mục với điều kiện**:\n",
    "    * Vd: **`array[array > 0]`**: Lấy các phần tử trong mảng thỏa mãn điều kiện.\n"
   ]
  },
  {
   "cell_type": "markdown",
   "metadata": {},
   "source": [
    "### Tạo mảng"
   ]
  },
  {
   "cell_type": "code",
   "execution_count": 35,
   "metadata": {},
   "outputs": [],
   "source": [
    "import numpy as np"
   ]
  },
  {
   "cell_type": "code",
   "execution_count": 36,
   "metadata": {},
   "outputs": [
    {
     "name": "stdout",
     "output_type": "stream",
     "text": [
      "[[0. 0. 0.]\n",
      " [0. 0. 0.]]\n",
      "[[1. 1. 1.]\n",
      " [1. 1. 1.]\n",
      " [1. 1. 1.]]\n",
      "[[0.89869984 0.08302251 0.10555425 0.99387361]\n",
      " [0.42494204 0.15924937 0.44202966 0.51749652]\n",
      " [0.61363197 0.99126953 0.14678471 0.3534055 ]]\n"
     ]
    }
   ],
   "source": [
    "#Mảng toàn số 0\n",
    "zeros = np.zeros((2, 3))\n",
    "print(zeros)\n",
    "\n",
    "# Mảng toàn số 1\n",
    "ones = np.ones((3, 3))\n",
    "print(ones)\n",
    "\n",
    "# Mảng với các giá trị ngẫu nhiên\n",
    "random = np.random.rand(3, 4)\n",
    "print(random)\n"
   ]
  },
  {
   "cell_type": "markdown",
   "metadata": {},
   "source": [
    "### Các phép toán cơ bản:"
   ]
  },
  {
   "cell_type": "code",
   "execution_count": 37,
   "metadata": {},
   "outputs": [
    {
     "data": {
      "text/plain": [
       "array([1, 2, 3, 4, 5])"
      ]
     },
     "execution_count": 37,
     "metadata": {},
     "output_type": "execute_result"
    }
   ],
   "source": [
    "years_of_experience = np.array([1, 2, 3, 4, 5])\n",
    "years_of_experience"
   ]
  },
  {
   "cell_type": "markdown",
   "metadata": {},
   "source": [
    "#### Cộng"
   ]
  },
  {
   "cell_type": "code",
   "execution_count": 38,
   "metadata": {},
   "outputs": [
    {
     "data": {
      "text/plain": [
       "array([2, 3, 4, 5, 6])"
      ]
     },
     "execution_count": 38,
     "metadata": {},
     "output_type": "execute_result"
    }
   ],
   "source": [
    "years_of_experience_plus_one = years_of_experience + 1\n",
    "years_of_experience_plus_one"
   ]
  },
  {
   "cell_type": "markdown",
   "metadata": {},
   "source": [
    "#### Trừ"
   ]
  },
  {
   "cell_type": "code",
   "execution_count": 39,
   "metadata": {},
   "outputs": [
    {
     "data": {
      "text/plain": [
       "array([0, 1, 2, 3, 4])"
      ]
     },
     "execution_count": 39,
     "metadata": {},
     "output_type": "execute_result"
    }
   ],
   "source": [
    "years_of_experience_minus_one = years_of_experience - 1\n",
    "years_of_experience_minus_one"
   ]
  },
  {
   "cell_type": "markdown",
   "metadata": {},
   "source": [
    "#### Chia"
   ]
  },
  {
   "cell_type": "code",
   "execution_count": 40,
   "metadata": {},
   "outputs": [
    {
     "data": {
      "text/plain": [
       "array([0.5, 1. , 1.5, 2. , 2.5])"
      ]
     },
     "execution_count": 40,
     "metadata": {},
     "output_type": "execute_result"
    }
   ],
   "source": [
    "years_of_experience_half = years_of_experience / 2\n",
    "years_of_experience_half"
   ]
  },
  {
   "cell_type": "markdown",
   "metadata": {},
   "source": [
    "#### Nhân"
   ]
  },
  {
   "cell_type": "code",
   "execution_count": 41,
   "metadata": {},
   "outputs": [
    {
     "data": {
      "text/plain": [
       "array([ 2,  4,  6,  8, 10])"
      ]
     },
     "execution_count": 41,
     "metadata": {},
     "output_type": "execute_result"
    }
   ],
   "source": [
    "years_of_experience_double = years_of_experience * 2\n",
    "years_of_experience_double"
   ]
  },
  {
   "cell_type": "markdown",
   "metadata": {},
   "source": [
    "### Cắt\n",
    "\n",
    "`array[start: end]`\n",
    "\n",
    "lấy phần tử từ chỉ số star đến end ( không lấy end)"
   ]
  },
  {
   "cell_type": "code",
   "execution_count": 42,
   "metadata": {},
   "outputs": [
    {
     "data": {
      "text/plain": [
       "array([2, 3])"
      ]
     },
     "execution_count": 42,
     "metadata": {},
     "output_type": "execute_result"
    }
   ],
   "source": [
    "second_and_third_jobs_experience = years_of_experience[1: 3]\n",
    "second_and_third_jobs_experience"
   ]
  },
  {
   "cell_type": "markdown",
   "metadata": {},
   "source": [
    "### Lấy phần tử với chỉ mục có điều kiện\n",
    "\n",
    "`array[aray > 2]`\n",
    "\n",
    "lấy phần tử lớn hơn 2"
   ]
  },
  {
   "cell_type": "code",
   "execution_count": 43,
   "metadata": {},
   "outputs": [
    {
     "data": {
      "text/plain": [
       "array([3, 4, 5])"
      ]
     },
     "execution_count": 43,
     "metadata": {},
     "output_type": "execute_result"
    }
   ],
   "source": [
    "jobs_with_more_than_one_year_exp = years_of_experience[years_of_experience > 2]\n",
    "jobs_with_more_than_one_year_exp"
   ]
  },
  {
   "cell_type": "markdown",
   "metadata": {},
   "source": [
    "### Notes\n",
    "\n",
    "* các hàm tính toán:\n",
    "    * `sum`: Tính tổng\n",
    "    * `prod`: Tính tích\n",
    "    * `cumsum`: Tính tổng cộng dồn\n",
    "    * `cumprod`: Tính tích cộng dồn\n",
    "    * `sqrt`: Tính cân bậc hai\n",
    "    * `exp` : Hàm mũ\n",
    "    * `log` : Logarit\n",
    "    * `sin` : Hàm sin\n",
    "    * `cos` : Hàm cos\n",
    "\n",
    "    ....\n",
    "\n",
    "### Ví dụ"
   ]
  },
  {
   "cell_type": "code",
   "execution_count": 44,
   "metadata": {},
   "outputs": [],
   "source": [
    "import random \n",
    "import numpy as np\n",
    "\n",
    "# Dùng .randint(a, b) để tạo 1 số ngẫu nhiên trong khoảng (a, b)\n",
    "salary = [random.randint(100000, 150000) for num in range(10)]"
   ]
  },
  {
   "cell_type": "code",
   "execution_count": 45,
   "metadata": {},
   "outputs": [
    {
     "data": {
      "text/plain": [
       "[139535,\n",
       " 130345,\n",
       " 106347,\n",
       " 143594,\n",
       " 116414,\n",
       " 143819,\n",
       " 108074,\n",
       " 145329,\n",
       " 121530,\n",
       " 139519]"
      ]
     },
     "execution_count": 45,
     "metadata": {},
     "output_type": "execute_result"
    }
   ],
   "source": [
    "salary"
   ]
  },
  {
   "cell_type": "code",
   "execution_count": 46,
   "metadata": {},
   "outputs": [
    {
     "data": {
      "text/plain": [
       "array([139535, 130345, 106347, 143594, 116414, 143819, 108074, 145329,\n",
       "       121530, 139519])"
      ]
     },
     "execution_count": 46,
     "metadata": {},
     "output_type": "execute_result"
    }
   ],
   "source": [
    "# Chuyển thành mảng\n",
    "salary_array = np.array(salary)\n",
    "salary_array"
   ]
  },
  {
   "cell_type": "markdown",
   "metadata": {},
   "source": [
    "### Sum "
   ]
  },
  {
   "cell_type": "code",
   "execution_count": 47,
   "metadata": {},
   "outputs": [
    {
     "name": "stdout",
     "output_type": "stream",
     "text": [
      "1294506\n"
     ]
    }
   ],
   "source": [
    "total_sum_salaries = np.sum(salary_array)\n",
    "print(total_sum_salaries)"
   ]
  },
  {
   "cell_type": "markdown",
   "metadata": {},
   "source": [
    "### Prod"
   ]
  },
  {
   "cell_type": "code",
   "execution_count": 48,
   "metadata": {},
   "outputs": [
    {
     "name": "stdout",
     "output_type": "stream",
     "text": [
      "-5366962012458907984\n"
     ]
    }
   ],
   "source": [
    "product_salaries = np.prod(salary_array)\n",
    "print(product_salaries)\n",
    "# Do kết quẩ quá lớn nên kết quả sẻ nhận được có đáu -"
   ]
  },
  {
   "cell_type": "markdown",
   "metadata": {},
   "source": [
    "### Cumsum\n",
    "\n",
    "- Phần tử đầu tiên của `cumsum` là 110003 (chỉ là phần tử đầu tiên)\n",
    "- Phần tử thứ hai là 110003 + 133394 = 243397\n",
    "- Phần tử thứ ba là 243397 + 148741 = 392138\n",
    "- Và tiếp tục..."
   ]
  },
  {
   "cell_type": "code",
   "execution_count": 49,
   "metadata": {},
   "outputs": [
    {
     "data": {
      "text/plain": [
       "array([ 139535,  269880,  376227,  519821,  636235,  780054,  888128,\n",
       "       1033457, 1154987, 1294506])"
      ]
     },
     "execution_count": 49,
     "metadata": {},
     "output_type": "execute_result"
    }
   ],
   "source": [
    "cumulative_sum_salaries = np.cumsum(salary_array)\n",
    "cumulative_sum_salaries"
   ]
  },
  {
   "cell_type": "markdown",
   "metadata": {},
   "source": [
    "### Cumprod \n",
    "\n",
    "- Phần tử đầu tiên của `cumprod` là 110003 (chỉ là phần tử đầu tiên)\n",
    "- Phần tử thứ hai là 110003 * 133394\n",
    "- Phần tử thứ ba là (110003 * 133394) * 148741\n",
    "- Và tiếp tục..."
   ]
  },
  {
   "cell_type": "code",
   "execution_count": 50,
   "metadata": {},
   "outputs": [
    {
     "data": {
      "text/plain": [
       "array([              139535,          18187689575,     1934206223232525,\n",
       "        1039247313207920610,  9189084399630394812,  3290341744054593556,\n",
       "        2508138057117469512, -2467193676013222712, -4669271811904222896,\n",
       "       -5366962012458907984])"
      ]
     },
     "execution_count": 50,
     "metadata": {},
     "output_type": "execute_result"
    }
   ],
   "source": [
    "cumulative_prod_salaries = np.cumprod(salary_array)\n",
    "cumulative_prod_salaries"
   ]
  },
  {
   "cell_type": "markdown",
   "metadata": {},
   "source": [
    "### Notes\n",
    "\n",
    "* `mean` : Trung bình\n",
    "* `median` : Trung vị\n",
    "* `var`: Phương sai\n",
    "* `std`: Độ lệch chuẩn\n",
    "* `min`: GTNN\n",
    "* `max`: GTLN"
   ]
  },
  {
   "cell_type": "markdown",
   "metadata": {},
   "source": [
    "### Mean"
   ]
  },
  {
   "cell_type": "code",
   "execution_count": 51,
   "metadata": {},
   "outputs": [
    {
     "data": {
      "text/plain": [
       "np.float64(129450.6)"
      ]
     },
     "execution_count": 51,
     "metadata": {},
     "output_type": "execute_result"
    }
   ],
   "source": [
    "average_salary = np.mean(salary_array)\n",
    "average_salary"
   ]
  },
  {
   "cell_type": "markdown",
   "metadata": {},
   "source": [
    "### Median "
   ]
  },
  {
   "cell_type": "code",
   "execution_count": 52,
   "metadata": {},
   "outputs": [
    {
     "data": {
      "text/plain": [
       "np.float64(134932.0)"
      ]
     },
     "execution_count": 52,
     "metadata": {},
     "output_type": "execute_result"
    }
   ],
   "source": [
    "median_salary = np.median(salary_array)\n",
    "median_salary"
   ]
  },
  {
   "cell_type": "markdown",
   "metadata": {},
   "source": [
    "### Var \n",
    "\n",
    "* `ddof=0`: Hàm sẽ tính phương sai tổng thể\n",
    "* `ddof=1`: Hàm tính phương sai mẫu"
   ]
  },
  {
   "cell_type": "code",
   "execution_count": 53,
   "metadata": {},
   "outputs": [
    {
     "data": {
      "text/plain": [
       "np.float64(231766914.04444447)"
      ]
     },
     "execution_count": 53,
     "metadata": {},
     "output_type": "execute_result"
    }
   ],
   "source": [
    "salary_variance = np.var(salary_array, ddof=1)\n",
    "salary_variance"
   ]
  },
  {
   "cell_type": "markdown",
   "metadata": {},
   "source": [
    "### Std\n",
    "\n",
    "* `ddof=0`: Hàm tính độ lệch chuẩn tổng thể\n",
    "* `ddof=1`: Hàm tính độ lệch chuẩn mẫu"
   ]
  },
  {
   "cell_type": "code",
   "execution_count": 54,
   "metadata": {},
   "outputs": [
    {
     "data": {
      "text/plain": [
       "np.float64(15223.892867609273)"
      ]
     },
     "execution_count": 54,
     "metadata": {},
     "output_type": "execute_result"
    }
   ],
   "source": [
    "salary_std_dev = np.std(salary_array, ddof=1)\n",
    "salary_std_dev"
   ]
  },
  {
   "cell_type": "markdown",
   "metadata": {},
   "source": [
    "### Min"
   ]
  },
  {
   "cell_type": "code",
   "execution_count": 55,
   "metadata": {},
   "outputs": [
    {
     "data": {
      "text/plain": [
       "np.int64(106347)"
      ]
     },
     "execution_count": 55,
     "metadata": {},
     "output_type": "execute_result"
    }
   ],
   "source": [
    "min_salary = np.min(salary_array)\n",
    "min_salary"
   ]
  },
  {
   "cell_type": "markdown",
   "metadata": {},
   "source": [
    "### Max"
   ]
  },
  {
   "cell_type": "code",
   "execution_count": 56,
   "metadata": {},
   "outputs": [
    {
     "data": {
      "text/plain": [
       "np.int64(145329)"
      ]
     },
     "execution_count": 56,
     "metadata": {},
     "output_type": "execute_result"
    }
   ],
   "source": [
    "max_salary = np.max(salary_array)\n",
    "max_salary"
   ]
  },
  {
   "cell_type": "markdown",
   "metadata": {},
   "source": [
    "### Notes\n",
    "\n",
    "* Cú pháp: `np.nan`\n",
    "* Giá trị `np.nan`: thể hiện dữ liệu còn thiếu hoặc là chưa xác định.\n",
    "* Hữu ích vì:\n",
    "    * Xử lý dữ liệu thiếu.\n",
    "    * Giúp tính toán vì nó sẽ không trả về lỗi mà thay vào đó trả về `np.nan`.\n",
    "    * Giúp lọc hoặc điền dữ liệu thiếu bằng các phương pháp khác\n",
    "\n",
    "### Ví dụ"
   ]
  },
  {
   "cell_type": "code",
   "execution_count": 57,
   "metadata": {},
   "outputs": [
    {
     "data": {
      "text/plain": [
       "array([123124.,     nan, 145000., 128000., 110000., 149999.,     nan,\n",
       "       135000., 115000., 140000.])"
      ]
     },
     "execution_count": 57,
     "metadata": {},
     "output_type": "execute_result"
    }
   ],
   "source": [
    "salary_with_nan = np.array([123124, np.nan, 145000, 128000, 110000, 149999, np.nan, 135000, 115000, 140000], dtype=float)\n",
    "salary_with_nan"
   ]
  },
  {
   "cell_type": "markdown",
   "metadata": {},
   "source": [
    "#### Thay thế"
   ]
  },
  {
   "cell_type": "code",
   "execution_count": 58,
   "metadata": {},
   "outputs": [
    {
     "data": {
      "text/plain": [
       "array([    nan,     nan, 145000.,     nan,     nan, 149999.,     nan,\n",
       "       135000.,     nan, 140000.])"
      ]
     },
     "execution_count": 58,
     "metadata": {},
     "output_type": "execute_result"
    }
   ],
   "source": [
    "# Thay thế các giá trị dưới 130000 thành nan\n",
    "salary_with_nan[salary_with_nan < 130000] = np.nan\n",
    "salary_with_nan"
   ]
  },
  {
   "cell_type": "markdown",
   "metadata": {},
   "source": [
    "### Notes\n",
    "\n",
    "* Cú pháp: `np.where(condition)`.\n",
    "* `np.where` kiểm tra các phần tử của một mảng theo một điều kiện và gán một giá trị cho True và một giá trị khác cho False\n",
    "* Nó thường được sử dụng để thay thế các phần tử trong mảng theo điều kiện.\n",
    "\n",
    "### Ví dụ"
   ]
  },
  {
   "cell_type": "code",
   "execution_count": 59,
   "metadata": {},
   "outputs": [
    {
     "data": {
      "text/plain": [
       "array([139535, 130345, 120000, 143594, 120000, 143819, 120000, 145329,\n",
       "       121530, 139519])"
      ]
     },
     "execution_count": 59,
     "metadata": {},
     "output_type": "execute_result"
    }
   ],
   "source": [
    "# Thay thế các phần tử nhỏ hơn 120000 thành 120000 \n",
    "salary_array = np.where(salary_array < 120000, 120000, salary_array)\n",
    "salary_array"
   ]
  },
  {
   "cell_type": "markdown",
   "metadata": {},
   "source": [
    "## Random Sampling\n",
    "\n",
    "* Cú pháp tạo ra các số ngẫu nhiên hoặc các mẫu ngẫu nhiên\n",
    "* Cú pháp: `np.random.normal(mean, std_dev, size)`: Rút ra mẫu ngẫu nhiên từ phân phối chuẩn\n",
    "    * `mean`:Trung vị của phân phối chuẩn\n",
    "    * `std_dev`: Độ lệch chuẩn của phân phối chuẩn\n",
    "    * `size`: Xác định số lượng mẫu ngẫu nhiên cần rút\n",
    "\n",
    "### [xem nhiều hơn tại đây](https://numpy.org/doc/2.1/reference/random/legacy.html)\n",
    "\n",
    "#### Ví dụ\n"
   ]
  },
  {
   "cell_type": "code",
   "execution_count": 60,
   "metadata": {},
   "outputs": [
    {
     "name": "stdout",
     "output_type": "stream",
     "text": [
      "[ -3373.06939983   -969.51159267   4666.04111188   -370.83267974\n",
      " -11787.4490022    4775.93353769  -5966.62105735   2904.69135375\n",
      "   6386.63982278   1492.68217521]\n",
      "[139535 130345 120000 143594 120000 143819 120000 145329 121530 139519]\n"
     ]
    },
    {
     "data": {
      "text/plain": [
       "array([136161.93060017, 129375.48840733, 124666.04111188, 143223.16732026,\n",
       "       108212.5509978 , 148594.93353769, 114033.37894265, 148233.69135375,\n",
       "       127916.63982278, 141011.68217521])"
      ]
     },
     "execution_count": 60,
     "metadata": {},
     "output_type": "execute_result"
    }
   ],
   "source": [
    "noise = np.random.normal(0, 5000, salary_array.size)\n",
    "print(noise)\n",
    "\n",
    "print(salary_array)\n",
    "\n",
    "salary_array_with_noise = salary_array + noise\n",
    "salary_array_with_noise"
   ]
  }
 ],
 "metadata": {
  "kernelspec": {
   "display_name": "Python 3",
   "language": "python",
   "name": "python3"
  },
  "language_info": {
   "codemirror_mode": {
    "name": "ipython",
    "version": 3
   },
   "file_extension": ".py",
   "mimetype": "text/x-python",
   "name": "python",
   "nbconvert_exporter": "python",
   "pygments_lexer": "ipython3",
   "version": "3.13.0"
  }
 },
 "nbformat": 4,
 "nbformat_minor": 2
}
