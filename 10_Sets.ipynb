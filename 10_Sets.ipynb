{
 "cells": [
  {
   "cell_type": "markdown",
   "metadata": {},
   "source": [
    "# Sets"
   ]
  },
  {
   "cell_type": "markdown",
   "metadata": {},
   "source": [
    "Bảng so sánh: \n",
    "\n",
    "| Đặc điểm            | List                     | Dictionary                        | Set                          | Tuple                           |\n",
    "|---------------------|--------------------------|-----------------------------------|------------------------------|---------------------------------|\n",
    "| **Cú pháp**         | `[item1, item2, ...]`    | `{'key1': value1, 'key2': value2}`| `{item1, item2, ...}`         | `(item1, item2, ...)` hoặc `item,` |\n",
    "| **Loại Dữ liệu**    | Dãy (Sequence)           | Bản đồ (Mapping)                 | Tập hợp (Set)                 | Dãy (Sequence)                  |\n",
    "| **Thứ tự** (Order)         | Có thứ tự (Ordered)      | Không có thứ tự (Unordered)       | Không có thứ tự (Unordered)   | Có thứ tự (Ordered)             |\n",
    "| **Chỉ mục** (Indexing)        | Có (theo chỉ mục)        | Có (theo khóa)                   | Không có                     | Có (theo chỉ mục)              |\n",
    "| **Giá trị trùng lặp** (Duplicate Values)| Cho phép                 | Giá trị có thể trùng lặp, khóa không thể trùng lặp | Không cho phép             | Cho phép                        |\n",
    "| **Tính biến đổi** (Mutability)   | Có thể thay đổi (Mutable)| Có thể thay đổi (Mutable)        | Có thể thay đổi (Mutable)     | Không thể thay đổi (Immutable)  |\n",
    "| **Sử dụng**         | Dùng cho một tập hợp các phần tử có thứ tự | Dùng cho các cặp khóa-giá trị   | Dùng cho các phần tử duy nhất | Dùng cho dữ liệu cố định        |"
   ]
  },
  {
   "cell_type": "markdown",
   "metadata": {},
   "source": [
    "## Notes\n",
    "\n",
    "* Dùng cho những mục đính duy nhất, độc nhất\n",
    "* Lưu trữ nhiều kiểu dữ liệu trong 1 biến duy nhất\n",
    "* Đặc điểm \n",
    "  * Không có thứ tự.\n",
    "  * Không thể thay đổi.\n",
    "  * Không có chỉ mục.\n",
    "* Set *items* are unchangeable but you can still remove items and add new items\n",
    "\n",
    "## Importance\n",
    "\n",
    " Các mục trong tập hợp (*set*) không thể thay đổi, nhưng vẫn có thể xóa mục và thêm mục mới.\n",
    "## Ví Dụ"
   ]
  },
  {
   "cell_type": "code",
   "execution_count": 1,
   "metadata": {},
   "outputs": [
    {
     "data": {
      "text/plain": [
       "{'python', 'sql', 'statistics', 'tableau'}"
      ]
     },
     "execution_count": 1,
     "metadata": {},
     "output_type": "execute_result"
    }
   ],
   "source": [
    "job_skills = {'tableau', 'sql', 'python', 'statistics'}\n",
    "\n",
    "job_skills"
   ]
  },
  {
   "cell_type": "markdown",
   "metadata": {},
   "source": [
    "### Không Có Thứ Tự và Chỉ Mục\n",
    "\n",
    "Tập hợp (*sets*) không có thứ tự và không có chỉ mục nên không hoạt động giống hoàn toàn như danh sách (*lists*).\n",
    "\n",
    "Vì vậy những cú pháp liên quan đến chỉ mục không áp dụng cho **set**"
   ]
  },
  {
   "cell_type": "code",
   "execution_count": 2,
   "metadata": {},
   "outputs": [
    {
     "ename": "TypeError",
     "evalue": "'set' object is not subscriptable",
     "output_type": "error",
     "traceback": [
      "\u001b[1;31m---------------------------------------------------------------------------\u001b[0m",
      "\u001b[1;31mTypeError\u001b[0m                                 Traceback (most recent call last)",
      "Cell \u001b[1;32mIn[2], line 1\u001b[0m\n\u001b[1;32m----> 1\u001b[0m \u001b[43mjob_skills\u001b[49m\u001b[43m[\u001b[49m\u001b[38;5;241;43m1\u001b[39;49m\u001b[43m]\u001b[49m\n",
      "\u001b[1;31mTypeError\u001b[0m: 'set' object is not subscriptable"
     ]
    }
   ],
   "source": [
    "job_skills[1]"
   ]
  },
  {
   "cell_type": "markdown",
   "metadata": {},
   "source": [
    "### Add()\n",
    "\n",
    "Thêm một phần tử mới bằng cách sử dụng `add()`"
   ]
  },
  {
   "cell_type": "code",
   "execution_count": null,
   "metadata": {},
   "outputs": [
    {
     "data": {
      "text/plain": [
       "{'looker', 'python', 'sql', 'statistics', 'tableau'}"
      ]
     },
     "metadata": {},
     "output_type": "display_data"
    }
   ],
   "source": [
    "job_skills.add('looker')\n",
    "\n",
    "job_skills"
   ]
  },
  {
   "cell_type": "markdown",
   "metadata": {},
   "source": [
    "Nếu thêm phần tử trùng lặp thì nó vẫn giữu nguyên như ban đầu vì `tính bất biến` của set"
   ]
  },
  {
   "cell_type": "code",
   "execution_count": null,
   "metadata": {},
   "outputs": [
    {
     "data": {
      "text/plain": [
       "{'looker', 'python', 'sql', 'statistics', 'tableau'}"
      ]
     },
     "metadata": {},
     "output_type": "display_data"
    }
   ],
   "source": [
    "job_skills.add('sql')\n",
    "\n",
    "job_skills"
   ]
  },
  {
   "cell_type": "markdown",
   "metadata": {},
   "source": [
    "### Remove()\n",
    "\n",
    "Xóa một phần tử chỉ định bằng cách sử dụng `remove()`"
   ]
  },
  {
   "cell_type": "markdown",
   "metadata": {},
   "source": [
    "`Error: Tried to remove a skill that does not exist in this set.`\n",
    "\n",
    "khi có lỗi này nó sẽ cho bạn thông tin là phần tử này không có trong cái set đó"
   ]
  },
  {
   "cell_type": "code",
   "execution_count": 3,
   "metadata": {},
   "outputs": [
    {
     "ename": "KeyError",
     "evalue": "'r'",
     "output_type": "error",
     "traceback": [
      "\u001b[1;31m---------------------------------------------------------------------------\u001b[0m",
      "\u001b[1;31mKeyError\u001b[0m                                  Traceback (most recent call last)",
      "Cell \u001b[1;32mIn[3], line 1\u001b[0m\n\u001b[1;32m----> 1\u001b[0m \u001b[43mjob_skills\u001b[49m\u001b[38;5;241;43m.\u001b[39;49m\u001b[43mremove\u001b[49m\u001b[43m(\u001b[49m\u001b[38;5;124;43m'\u001b[39;49m\u001b[38;5;124;43mr\u001b[39;49m\u001b[38;5;124;43m'\u001b[39;49m\u001b[43m)\u001b[49m\n\u001b[0;32m      3\u001b[0m job_skills\n",
      "\u001b[1;31mKeyError\u001b[0m: 'r'"
     ]
    }
   ],
   "source": [
    "job_skills.remove('r')\n",
    "\n",
    "job_skills"
   ]
  },
  {
   "cell_type": "markdown",
   "metadata": {},
   "source": [
    "Đay là đoạn code đúng✅."
   ]
  },
  {
   "cell_type": "code",
   "execution_count": null,
   "metadata": {},
   "outputs": [
    {
     "data": {
      "text/plain": [
       "{'looker', 'python', 'sql', 'tableau'}"
      ]
     },
     "metadata": {},
     "output_type": "display_data"
    }
   ],
   "source": [
    "job_skills.remove('statistics')\n",
    "\n",
    "job_skills"
   ]
  },
  {
   "cell_type": "markdown",
   "metadata": {},
   "source": [
    "### Set()\n",
    "\n",
    "Tập hợp (*sets*) rất hữu ích để loại bỏ các giá trị lặp lại. Dùng nhiều trong những bài toán tìm sự giống, khác trong một tập hợp danh sách các phần tử..."
   ]
  },
  {
   "cell_type": "code",
   "execution_count": null,
   "metadata": {},
   "outputs": [
    {
     "data": {
      "text/plain": [
       "{'python', 'sql', 'statistics', 'tableau'}"
      ]
     },
     "metadata": {},
     "output_type": "display_data"
    }
   ],
   "source": [
    "skill_list = ['python', 'sql', 'statistics', 'tableau', 'python', 'sql', 'statistics', 'tableau']\n",
    "\n",
    "set(skill_list)"
   ]
  },
  {
   "cell_type": "markdown",
   "metadata": {},
   "source": [
    "Chuyển nó về lại là list và trong list này bây giờ chỉ còn những phần tử duy nhất"
   ]
  },
  {
   "cell_type": "code",
   "execution_count": null,
   "metadata": {},
   "outputs": [
    {
     "data": {
      "text/plain": [
       "['python', 'statistics', 'tableau', 'sql']"
      ]
     },
     "metadata": {},
     "output_type": "display_data"
    }
   ],
   "source": [
    "skill_list = list(set(skill_list))\n",
    "\n",
    "skill_list"
   ]
  }
 ],
 "metadata": {
  "kernelspec": {
   "display_name": "Python 3",
   "language": "python",
   "name": "python3"
  },
  "language_info": {
   "codemirror_mode": {
    "name": "ipython",
    "version": 3
   },
   "file_extension": ".py",
   "mimetype": "text/x-python",
   "name": "python",
   "nbconvert_exporter": "python",
   "pygments_lexer": "ipython3",
   "version": "3.13.0"
  }
 },
 "nbformat": 4,
 "nbformat_minor": 2
}
