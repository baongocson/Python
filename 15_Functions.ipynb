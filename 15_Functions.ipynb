{
 "cells": [
  {
   "cell_type": "markdown",
   "metadata": {},
   "source": [
    "# Functions"
   ]
  },
  {
   "cell_type": "markdown",
   "metadata": {},
   "source": [
    "### Notes\n",
    "\n",
    "* Một hàm là một khối mã chỉ chạy khi được gọi.\n",
    "* Có thể truyền dữ liệu (gọi là tham số) vào trong hàm.\n",
    "* Hàm có thể trả về dữ liệu như một kết quả.\n",
    "\n",
    "## Importance\n",
    "\n",
    "Cho phép mình tái sử dụng lại đoạn mã đó, đỡ mất thời gian gõ lại từng chữ =, trông thẩm mĩ hơn, và rất quan trọng trong các quy trình phân tích dữ liệu và vẽ đồ thị phức tạp"
   ]
  },
  {
   "cell_type": "code",
   "execution_count": 1,
   "metadata": {},
   "outputs": [
    {
     "name": "stdout",
     "output_type": "stream",
     "text": [
      "Print is a special type of Python function\n"
     ]
    }
   ],
   "source": [
    "print(\"Print is a special type of Python function\")"
   ]
  },
  {
   "cell_type": "code",
   "execution_count": 2,
   "metadata": {},
   "outputs": [],
   "source": [
    "def my_function():\n",
    "    print(\"What's up data nerds?\")"
   ]
  },
  {
   "cell_type": "code",
   "execution_count": 3,
   "metadata": {},
   "outputs": [
    {
     "name": "stdout",
     "output_type": "stream",
     "text": [
      "What's up data nerds?\n"
     ]
    }
   ],
   "source": [
    "my_function()"
   ]
  },
  {
   "cell_type": "markdown",
   "metadata": {},
   "source": [
    "## Các Loại Hàm\n",
    "\n",
    "| Loại Hàm                     | Ví dụ Hàm                     | \n",
    "|------------------------------|-------------------------------|\n",
    "| Hàm tích hợp                 | `max()`                       | \n",
    "| Hàm do người dùng định nghĩa | `def my_function(): pass`     |\n",
    "| Hàm lambda                   | `lambda x: x + 1`             | \n",
    "| Hàm thư viện tiêu chuẩn       | `math.sqrt()`                 |\n",
    "| Hàm thư viện bên thứ ba       | `numpy.array()`               |\n"
   ]
  },
  {
   "cell_type": "markdown",
   "metadata": {},
   "source": [
    "## Built-in Functions: Hàm Tích Hợp\n",
    "\n",
    "Có sẵn trong Python.\n",
    "\n",
    "* `print()`: Hiển thị đầu ra\n",
    "* `type()`: Kiểm tra kiểu dữ liệu của đối tượng\n",
    "* `range()`: Tạo một chuỗi số, hữu ích trong vòng lặp\n",
    "* `len()`: Đếm số lượng phần tử trong một cấu trúc dữ liệu\n",
    "\n",
    "[Đây là danh sách tất cả các hàm tích hợp trong Python](https://docs.python.org/3/library/functions.html)."
   ]
  },
  {
   "cell_type": "code",
   "execution_count": null,
   "metadata": {},
   "outputs": [
    {
     "name": "stdout",
     "output_type": "stream",
     "text": [
      "['__build_class__', '__import__', 'abs', 'aiter', 'all', 'anext', 'any', 'ascii', 'bin', 'breakpoint', 'callable', 'chr', 'compile', 'delattr', 'dir', 'divmod', 'eval', 'exec', 'format', 'getattr', 'globals', 'hasattr', 'hash', 'hex', 'id', 'isinstance', 'issubclass', 'iter', 'len', 'locals', 'max', 'min', 'next', 'oct', 'open', 'ord', 'pow', 'print', 'repr', 'round', 'setattr', 'sorted', 'sum', 'vars']\n"
     ]
    }
   ],
   "source": [
    "import types\n",
    "\n",
    "print([func for func in dir(__builtins__) if isinstance(getattr(__builtins__, func), types.BuiltinFunctionType)])"
   ]
  },
  {
   "cell_type": "markdown",
   "metadata": {},
   "source": [
    "Dưới đây là một số hàm hữu ích cho phân tích dữ liệu:\n",
    "\n",
    "* `sum()`, `min()`, `max()`: Các phép tính thống kê cơ bản\n",
    "* `sorted()`: Sắp xếp dữ liệu"
   ]
  },
  {
   "cell_type": "code",
   "execution_count": 5,
   "metadata": {},
   "outputs": [
    {
     "name": "stdout",
     "output_type": "stream",
     "text": [
      "Total Salary: $540000, Min: $90000, Max: $130000\n"
     ]
    }
   ],
   "source": [
    "# Sum, Min, Max\n",
    "data_scientist_salaries = [95000, 120000, 105000, 90000, 130000]\n",
    "total_salary = sum(data_scientist_salaries)\n",
    "min_salary = min(data_scientist_salaries)\n",
    "max_salary = max(data_scientist_salaries)\n",
    "print(f'Total Salary: ${total_salary}, Min: ${min_salary}, Max: ${max_salary}')"
   ]
  },
  {
   "cell_type": "code",
   "execution_count": 6,
   "metadata": {},
   "outputs": [
    {
     "data": {
      "text/plain": [
       "[1, 2, 3, 4, 5]"
      ]
     },
     "execution_count": 6,
     "metadata": {},
     "output_type": "execute_result"
    }
   ],
   "source": [
    "# Sorted\n",
    "years_experience = [2, 5, 3, 4, 1]\n",
    "sorted_experience = sorted(years_experience)\n",
    "sorted_experience"
   ]
  },
  {
   "cell_type": "markdown",
   "metadata": {},
   "source": [
    "## Hàm Do Người Dùng Định Nghĩa\n",
    "\n",
    "Được tạo bởi người dùng với tên và cú pháp tùy chọn: `calculate_something_special()`.\n",
    "\n",
    "# Notes:\n",
    "Không đặt tên hàm trùng với các đối tượng tích hợp sẵn trong Python.\n"
   ]
  },
  {
   "cell_type": "markdown",
   "metadata": {},
   "source": [
    "#### Tạo Hàm\n",
    "\n",
    "##### Ghi chú\n",
    "\n",
    "* Sử dụng `def` để tạo một hàm.\n",
    "\n",
    "##### Ví dụ\n",
    "\n",
    "Chúng ta sẽ tạo một hàm có tên là `my_experience`, hàm này trả về một số nguyên đại diện cho số năm kinh nghiệm."
   ]
  },
  {
   "cell_type": "code",
   "execution_count": 18,
   "metadata": {},
   "outputs": [],
   "source": [
    "def my_experience():\n",
    "    return 5"
   ]
  },
  {
   "cell_type": "markdown",
   "metadata": {},
   "source": [
    "Giá trị mặc định cho một hàm như `my_function(x='default_value', not_default)`"
   ]
  },
  {
   "cell_type": "markdown",
   "metadata": {},
   "source": [
    "### Gọi hàm: \n",
    "\n",
    "`function_name()`"
   ]
  },
  {
   "cell_type": "code",
   "execution_count": 19,
   "metadata": {},
   "outputs": [
    {
     "data": {
      "text/plain": [
       "<function __main__.my_experience()>"
      ]
     },
     "execution_count": 19,
     "metadata": {},
     "output_type": "execute_result"
    }
   ],
   "source": [
    "# lỗi hay gặp là khi gọi hàm nhưng quên không ( ) \n",
    "my_experience"
   ]
  },
  {
   "cell_type": "markdown",
   "metadata": {},
   "source": [
    "Còn đây là cách gọi hàm đúng✅."
   ]
  },
  {
   "cell_type": "code",
   "execution_count": 9,
   "metadata": {},
   "outputs": [
    {
     "data": {
      "text/plain": [
       "5"
      ]
     },
     "execution_count": 9,
     "metadata": {},
     "output_type": "execute_result"
    }
   ],
   "source": [
    "my_experience()"
   ]
  },
  {
   "cell_type": "markdown",
   "metadata": {},
   "source": [
    "### Pass\n",
    "\n",
    "#### Notes\n",
    "\n",
    "* `pass` Giữ chỗ cho sau này khi bản thân có ý tưởng thì thêm vào sau.\n",
    "* Nó sẽ được python bỏ qua khi chạy \n",
    "\n",
    "#### Ví Dụ"
   ]
  },
  {
   "cell_type": "code",
   "execution_count": 20,
   "metadata": {},
   "outputs": [],
   "source": [
    "def my_experience():\n",
    "    pass\n",
    "\n",
    "my_experience()"
   ]
  },
  {
   "cell_type": "markdown",
   "metadata": {},
   "source": [
    "### Return\n",
    "\n",
    "#### Notes\n",
    "\n",
    "* Sử dụng `return` để hàm trả về một giá trị hoặc kết quả của một biểu thức.\n",
    "* Thoát khỏi hàm tại một điểm nhất định.\n",
    "* Có thể trả về nhiều giá trị bằng cách sử dụng tuple, list hoặc dictionary.\n",
    "\n",
    "\n",
    "#### Ví Dụ"
   ]
  },
  {
   "cell_type": "code",
   "execution_count": 21,
   "metadata": {},
   "outputs": [
    {
     "data": {
      "text/plain": [
       "3500.0"
      ]
     },
     "execution_count": 21,
     "metadata": {},
     "output_type": "execute_result"
    }
   ],
   "source": [
    "def my_function(yearly_bonus_percent):\n",
    "\n",
    "  return 70000 * yearly_bonus_percent\n",
    "\n",
    "my_function(0.05)"
   ]
  },
  {
   "cell_type": "markdown",
   "metadata": {},
   "source": [
    "### Arguments: Tham số\n",
    "\n",
    "#### Notes\n",
    "\n",
    "* Thông tin có thể được truyền vào hàm dưới dạng tham số.\n",
    "* Tham số được chỉ định sau tên hàm, bên trong dấu ngoặc đơn.\n",
    "* Các tham số ccash nhau bởi dấu phẩy\n",
    "* Một hàm phải được gọi với đúng số lượng tham số. Nếu hàm có 2 tham số, thì phải gọi hàm với chính xác 2 tham số.\n",
    "\n",
    "Tham số và Tham luận\n",
    "* Tham số và tham luận có thể được sử dụng cho cùng một mục đích. Thông tin được truyền vào hàm.\n",
    "  * Tham số là một biến được liệt kê bên trong dấu ngoặc đơn trong định nghĩa hàm.\n",
    "  * Tham luận là giá trị được gửi đến hàm khi gọi.\n",
    "\n",
    "#### Ví Dụ\n"
   ]
  },
  {
   "cell_type": "code",
   "execution_count": null,
   "metadata": {},
   "outputs": [
    {
     "name": "stdout",
     "output_type": "stream",
     "text": [
      "The Data Analyst has an average salary of $60,000.\n"
     ]
    }
   ],
   "source": [
    "def my_function(job_title):\n",
    "# khi gọi my_function() thì nó trả vế đoạn mã bên dưới\n",
    "    print(f'The {job_title} has an average salary of $60,000.')\n",
    "\n",
    "my_function('Data Analyst')"
   ]
  },
  {
   "cell_type": "markdown",
   "metadata": {},
   "source": [
    "Có thể cùng lúc làm việc với nhiều tham số và các tham số này có nhiều kiểu dữ liệu khác nhau"
   ]
  },
  {
   "cell_type": "code",
   "execution_count": 25,
   "metadata": {},
   "outputs": [],
   "source": [
    "def my_function(job_title, average_salary):\n",
    "   # trả về câu lệnh dưới: và đặc biệt mình đtặ 2 tham số thì phải gọi đúng 2 tham số\n",
    "    print(f'The {job_title} has an average salary of ${average_salary}.')"
   ]
  },
  {
   "cell_type": "code",
   "execution_count": 26,
   "metadata": {},
   "outputs": [
    {
     "ename": "TypeError",
     "evalue": "my_function() missing 1 required positional argument: 'average_salary'",
     "output_type": "error",
     "traceback": [
      "\u001b[1;31m---------------------------------------------------------------------------\u001b[0m",
      "\u001b[1;31mTypeError\u001b[0m                                 Traceback (most recent call last)",
      "Cell \u001b[1;32mIn[26], line 2\u001b[0m\n\u001b[0;32m      1\u001b[0m \u001b[38;5;66;03m# Lỗi sai hay gặp: đtặ 2 tham số, nhhuwng gọi 1 tham số\u001b[39;00m\n\u001b[1;32m----> 2\u001b[0m \u001b[43mmy_function\u001b[49m\u001b[43m(\u001b[49m\u001b[38;5;241;43m60000\u001b[39;49m\u001b[43m)\u001b[49m\n",
      "\u001b[1;31mTypeError\u001b[0m: my_function() missing 1 required positional argument: 'average_salary'"
     ]
    }
   ],
   "source": [
    "# Lỗi sai hay gặp: đtặ 2 tham số, nhhuwng gọi 1 tham số\n",
    "my_function(60000)"
   ]
  },
  {
   "cell_type": "markdown",
   "metadata": {},
   "source": [
    "Đây là đoạn code đúng ✅."
   ]
  },
  {
   "cell_type": "code",
   "execution_count": 27,
   "metadata": {},
   "outputs": [
    {
     "name": "stdout",
     "output_type": "stream",
     "text": [
      "The Business Analyst has an average salary of $60000.\n"
     ]
    }
   ],
   "source": [
    "my_function('Business Analyst', 60000)"
   ]
  },
  {
   "cell_type": "markdown",
   "metadata": {},
   "source": [
    "#### Ví Dụ"
   ]
  },
  {
   "cell_type": "code",
   "execution_count": null,
   "metadata": {},
   "outputs": [],
   "source": [
    "# Hàm tính tổng lương: total_salary = base_salary * (1 + bonus_rate)\n",
    "def calculate_salary(base_salary, bonus_rate):\n",
    "\n",
    "  total_salary = base_salary * (1 + bonus_rate)\n",
    "\n",
    "  return total_salary"
   ]
  },
  {
   "cell_type": "code",
   "execution_count": null,
   "metadata": {},
   "outputs": [
    {
     "data": {
      "text/plain": [
       "110000.00000000001"
      ]
     },
     "metadata": {},
     "output_type": "display_data"
    }
   ],
   "source": [
    "salary_1 = 100000\n",
    "rate_1 = 0.1\n",
    "\n",
    "calculate_salary(salary_1, rate_1)"
   ]
  },
  {
   "cell_type": "markdown",
   "metadata": {},
   "source": [
    "### Adding Keyword Arguments: Thêm tham số dựa trên khóa\n",
    "\n",
    "#### Notes\n",
    "\n",
    "* Gửi tham số bằng `key= value`\n",
    "* Khi đó, thứ tự các tham số không còn quan trọng"
   ]
  },
  {
   "cell_type": "code",
   "execution_count": 28,
   "metadata": {},
   "outputs": [],
   "source": [
    "def calculate_salary(base_salary, bonus_rate=.1):\n",
    "\n",
    "  total_salary = base_salary * (1 + bonus_rate)\n",
    "\n",
    "  return total_salary"
   ]
  },
  {
   "cell_type": "code",
   "execution_count": null,
   "metadata": {},
   "outputs": [
    {
     "data": {
      "text/plain": [
       "110000.00000000001"
      ]
     },
     "metadata": {},
     "output_type": "display_data"
    }
   ],
   "source": [
    "salary_1 = 100000\n",
    "\n",
    "calculate_salary(salary_1, rate_1)"
   ]
  },
  {
   "cell_type": "markdown",
   "metadata": {},
   "source": [
    "Ghi đè tham số mặc định "
   ]
  },
  {
   "cell_type": "code",
   "execution_count": null,
   "metadata": {},
   "outputs": [
    {
     "data": {
      "text/plain": [
       "150000.0"
      ]
     },
     "metadata": {},
     "output_type": "display_data"
    }
   ],
   "source": [
    "salary_1 = 100000\n",
    "rate_1 = 0.5\n",
    "\n",
    "calculate_salary(salary_1, rate_1)"
   ]
  },
  {
   "cell_type": "markdown",
   "metadata": {},
   "source": [
    "#### Ví Dụ\n",
    "\n",
    "1. Cơ bản"
   ]
  },
  {
   "cell_type": "code",
   "execution_count": 30,
   "metadata": {},
   "outputs": [
    {
     "name": "stdout",
     "output_type": "stream",
     "text": [
      "Job Title and Average Salary Analysis:\n",
      "- Data Analyst: $60,000\n",
      "- Business Analyst: $65,000\n"
     ]
    }
   ],
   "source": [
    "def analyze_skills(skill1, salary1, skill2, salary2):\n",
    "    \"\"\"\n",
    "    :param skill1: Tên kĩ năng 1\n",
    "    :param salary1: mức lương trung bình 1\n",
    "    :param skill2: tên kí năng 2 hoặc công việc 2.\n",
    "    :param salary2: mức lương trung bình 2.\n",
    "    \"\"\"\n",
    "    print('Job Title and Average Salary Analysis:')\n",
    "    print(f'- {skill1}: ${salary1:,}')\n",
    "    print(f'- {skill2}: ${salary2:,}')\n",
    "\n",
    "analyze_skills(skill1='Data Analyst', salary1=60000, skill2='Business Analyst', salary2=65000)"
   ]
  },
  {
   "cell_type": "markdown",
   "metadata": {},
   "source": [
    "2. Nâng Cao\n",
    "\n",
    "#### Notes\n",
    "\n",
    "* Nếu chưa chắc có bao nhiêu tham số để làm bài tập nào đó hãy thêm `*` trước tên tham số trong định nghĩa hàm.\n",
    "* Hàm sẽ nhận một tuple các tham số.\n",
    "* Các Tham Số Tùy Ý thường được gọi là `*args`.\n",
    "\n",
    "#### Ví dụ\n"
   ]
  },
  {
   "cell_type": "code",
   "execution_count": 31,
   "metadata": {},
   "outputs": [
    {
     "name": "stdout",
     "output_type": "stream",
     "text": [
      "Job Title and Average Salary Analysis:\n",
      "- Data Analyst: $60,000\n",
      "- Business Analyst: $65,000\n",
      "- Data Engineer: $90,000\n"
     ]
    }
   ],
   "source": [
    "def analyze_skills(*args):\n",
    "    \"\"\"\n",
    "    iN ra bằng cách sử dụng đối số vị trí\n",
    "    \"\"\"\n",
    "    print('Job Title and Average Salary Analysis:')\n",
    "    for skill_salary_pair in args:\n",
    "        skill, salary = skill_salary_pair\n",
    "        print(f'- {skill}: ${salary:,}')\n",
    "\n",
    "analyze_skills(('Data Analyst', 60000), ('Business Analyst', 65000), ('Data Engineer', 90000))"
   ]
  },
  {
   "cell_type": "markdown",
   "metadata": {},
   "source": [
    "### **Kwargs\n",
    "\n",
    "#### Notes\n",
    "\n",
    "* khác với `*args` thay vì hàm nhận tuple thì bây giờ `**kwargs` hàm sẽ nhận từ điển các tham số\n",
    "\n",
    "#### ExampleVí Dụ"
   ]
  },
  {
   "cell_type": "code",
   "execution_count": 32,
   "metadata": {},
   "outputs": [
    {
     "name": "stdout",
     "output_type": "stream",
     "text": [
      "Skill and Average Salary Analysis:\n",
      "- Data_Analyst: $60,000\n",
      "- Business_Analyst: $65,000\n",
      "- Data_Engineer: $90,000\n"
     ]
    }
   ],
   "source": [
    "def analyze_skills(**skills_salaries):\n",
    "    \"\"\"\n",
    "    In ra bằng cách sử dụng đối số từ khóa \n",
    "    \"\"\"\n",
    "    print('Skill and Average Salary Analysis:')\n",
    "    for skill, salary in skills_salaries.items():\n",
    "        print(f'- {skill}: ${salary:,}')\n",
    "\n",
    "analyze_skills(Data_Analyst=60000, Business_Analyst=65000, Data_Engineer=90000)"
   ]
  }
 ],
 "metadata": {
  "kernelspec": {
   "display_name": "Python 3",
   "language": "python",
   "name": "python3"
  },
  "language_info": {
   "codemirror_mode": {
    "name": "ipython",
    "version": 3
   },
   "file_extension": ".py",
   "mimetype": "text/x-python",
   "name": "python",
   "nbconvert_exporter": "python",
   "pygments_lexer": "ipython3",
   "version": "3.13.0"
  }
 },
 "nbformat": 4,
 "nbformat_minor": 2
}
