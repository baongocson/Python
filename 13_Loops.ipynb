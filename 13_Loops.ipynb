{
 "cells": [
  {
   "cell_type": "markdown",
   "metadata": {},
   "source": [
    "# Loops\n",
    "*Vòng lặp*"
   ]
  },
  {
   "cell_type": "markdown",
   "metadata": {},
   "source": [
    "## Overview\n",
    "\n",
    "* Vòng lặp `while`\n",
    "* Vòng lặp `for` \n",
    "\n",
    "## Importance\n",
    "\n",
    "Vòng lặp dùng để tự động hóa các công việc lặp đi lặp lại, như xử lý dữ liệu trong pandas hoặc tạo nhiều biểu đồ trong Matplotlib."
   ]
  },
  {
   "cell_type": "markdown",
   "metadata": {},
   "source": [
    "Một vòng lặp `for` lặp qua một đối tượng có thể lặp được (iterable)"
   ]
  },
  {
   "cell_type": "code",
   "execution_count": 16,
   "metadata": {},
   "outputs": [
    {
     "name": "stdout",
     "output_type": "stream",
     "text": [
      "1\n",
      "2\n",
      "3\n",
      "4\n",
      "5\n"
     ]
    }
   ],
   "source": [
    "numbers = [1, 2, 3, 4, 5]\n",
    "for number in numbers:\n",
    "    print(number)"
   ]
  },
  {
   "cell_type": "markdown",
   "metadata": {},
   "source": [
    "Một vòng lặp `while` lặp lại một hành động cho đến khi điều kiện không còn đúng nữa."
   ]
  },
  {
   "cell_type": "code",
   "execution_count": 17,
   "metadata": {},
   "outputs": [
    {
     "name": "stdout",
     "output_type": "stream",
     "text": [
      "1\n",
      "2\n",
      "3\n",
      "4\n",
      "5\n"
     ]
    }
   ],
   "source": [
    "count = 1\n",
    "while count <= 5:\n",
    "    print(count)\n",
    "    count += 1"
   ]
  },
  {
   "cell_type": "markdown",
   "metadata": {},
   "source": [
    "## While\n",
    "\n",
    "### Notes\n",
    "\n",
    "* Một vòng lặp `while` thực thi một tập hợp các câu lệnh miễn là điều kiện đúng.\n",
    "* Nhớ tăng `i`, nếu không vòng lặp sẽ tiếp tục mãi mãi.\n",
    "\n",
    "### Ví dụ\n",
    "\n",
    "In ra tất cả các năm kinh nghiệm yêu cầu cho 3 công việc khoa học dữ liệu.\n",
    "\n",
    "* Khởi tạo các biến để theo dõi tổng số công việc (`total_positions`) và công việc hiện tại đang được kiểm tra (`position_index`).\n",
    "* Sử dụng vòng lặp `while` để lặp qua từng yêu cầu kinh nghiệm tối thiểu của các công việc (`position_experience_requirements`) miễn là `position_index` nhỏ hơn `total_positions`.\n",
    "* Trong vòng lặp, nó in ra số năm kinh nghiệm cụ thể mà công việc đó yêu cầu (`position_experience_requirement`).\n",
    "* Tăng (increment) `position_index` lên 1 trong mỗi lần lặp để chuyển sang công việc tiếp theo. Điều này đảm bảo vòng lặp kết thúc sau khi kiểm tra tất cả các công việc."
   ]
  },
  {
   "cell_type": "code",
   "execution_count": 18,
   "metadata": {},
   "outputs": [],
   "source": [
    "total_positions = 3\n",
    "position_index = 0\n",
    "\n",
    "position_experience_requirements = [1, 3, 2]"
   ]
  },
  {
   "cell_type": "code",
   "execution_count": 19,
   "metadata": {},
   "outputs": [
    {
     "name": "stdout",
     "output_type": "stream",
     "text": [
      "Position requires 1 years of experience.\n",
      "Position requires 3 years of experience.\n",
      "Position requires 2 years of experience.\n"
     ]
    }
   ],
   "source": [
    "while position_index < total_positions:\n",
    "    print('Position requires', position_experience_requirements[position_index], 'years of experience.')\n",
    "    position_index += 1 # Nếu không tăng position_index lên thì vòng lặp sẽ lặp lại vô hạn"
   ]
  },
  {
   "cell_type": "markdown",
   "metadata": {},
   "source": [
    "### Ví dụ Thực tế\n",
    "\n",
    "Dưới đây là một ví dụ phức tạp hơn về cách sử dụng vòng lặp `while`.\n",
    "\n",
    "Chúng ta sẽ thêm vào `user_years_of_experience`.\n",
    "\n",
    "* Khởi tạo các biến để theo dõi kinh nghiệm của người dùng (`user_years_of_experience`), tổng số công việc (`total_positions`), và công việc hiện tại đang được kiểm tra (`position_index`).\n",
    "* Sử dụng vòng lặp `while` để lặp qua từng yêu cầu kinh nghiệm tối thiểu của các công việc (`position_experience_requirements`) miễn là `position_index` nhỏ hơn `total_positions`.\n",
    "* Trong vòng lặp, so sánh `user_years_of_experience` với yêu cầu của công việc hiện tại (`required_years`): in ra `Qualified `nếu người dùng đáp ứng hoặc vượt qua yêu cầu, ngược lại in ra Not `qualified`.\n",
    "* Tăng (increment) `position_index` lên 1 trong mỗi lần lặp để chuyển sang công việc tiếp theo. Điều này đảm bảo vòng lặp kết thúc sau khi kiểm tra tất cả các công việc."
   ]
  },
  {
   "cell_type": "code",
   "execution_count": 20,
   "metadata": {},
   "outputs": [
    {
     "data": {
      "text/plain": [
       "2"
      ]
     },
     "execution_count": 20,
     "metadata": {},
     "output_type": "execute_result"
    }
   ],
   "source": [
    "user_years_of_experience = 2\n",
    "\n",
    "user_years_of_experience"
   ]
  },
  {
   "cell_type": "code",
   "execution_count": 21,
   "metadata": {},
   "outputs": [],
   "source": [
    "while position_index < total_positions:\n",
    "    required_years = position_experience_requirements[position_index]\n",
    "    if user_years_of_experience >= required_years:\n",
    "        print('Qualified')\n",
    "    else:\n",
    "        print('Not qualified')\n",
    "    position_index += 1"
   ]
  },
  {
   "cell_type": "markdown",
   "metadata": {},
   "source": [
    "## For\n",
    "\n",
    "### Ghi chú\n",
    "\n",
    "* Một vòng lặp `for` lặp qua một dãy (ví dụ: danh sách, tuple, từ điển, set, hoặc chuỗi).\n",
    "* Thực thi một tập hợp các câu lệnh, một câu lệnh cho mỗi mục trong danh sách, tuple, set, v.v.\n",
    "\n",
    "### Ví dụ\n",
    "\n",
    "Vòng lặp này kiểm tra trình độ của người dùng cho mỗi công việc dựa trên số năm kinh nghiệm và trả về kết quả.\n",
    "\n",
    "Chúng ta sử dụng lại biến như trước: `position_experience_requirements`.\n",
    "\n",
    "* Một vòng lặp `for` lặp qua từng mục trong danh sách `position_experience_requirements`.\n",
    "* Trong vòng lặp, nó in ra số năm kinh nghiệm yêu cầu cho mỗi vị trí."
   ]
  },
  {
   "cell_type": "code",
   "execution_count": 22,
   "metadata": {},
   "outputs": [
    {
     "name": "stdout",
     "output_type": "stream",
     "text": [
      "Position requires 1 years of experience.\n",
      "Position requires 3 years of experience.\n",
      "Position requires 2 years of experience.\n"
     ]
    }
   ],
   "source": [
    "for x in position_experience_requirements:\n",
    "    print(f'Position requires {x} years of experience.')"
   ]
  },
  {
   "cell_type": "markdown",
   "metadata": {},
   "source": [
    "### Enumerate\n",
    "\n",
    " là một hàm được sử dụng để lặp qua một đối tượng có thể lặp được (như danh sách, tuple, v.v.) và trả về cả chỉ số (index) và giá trị của các phần tử trong đối tượng đó\n",
    "\n",
    "#### Notes:\n",
    "\n",
    "* Chủ yếu được sử dụng trong các vòng lặp, đặc biệt là trong vòng lặp `for`.\n",
    "* Rất hữu ích khi cần chỉ số của một đối tượng có thể lặp được để thực hiện các thao tác như:\n",
    "    * Cập nhật các phần tử dựa trên vị trí của chúng\n",
    "    * So sánh các mục ở các vị trí khác nhau\n",
    "    * Hiển thị vị trí cùng với mục\n",
    "* Cú pháp: `enumerate(iterable, start = 0)`\n",
    "\n",
    "#### Ví dụ\n",
    "\n",
    "Thay vì chỉ lặp qua danh sách với `x in list` để lấy số năm kinh nghiệm yêu cầu cho mỗi vị trí, chúng ta có thể sử dụng `enumerate` để có được cả chỉ số (đại diện cho số vị trí) và số năm kinh nghiệm từ `position_experience_requirements`."
   ]
  },
  {
   "cell_type": "code",
   "execution_count": 23,
   "metadata": {},
   "outputs": [
    {
     "name": "stdout",
     "output_type": "stream",
     "text": [
      "Position 1 requires 1 years of experience.\n",
      "Position 2 requires 3 years of experience.\n",
      "Position 3 requires 2 years of experience.\n"
     ]
    }
   ],
   "source": [
    "for index, years in enumerate(position_experience_requirements, start=1):\n",
    "    print(f'Position {index} requires {years} years of experience.')"
   ]
  },
  {
   "cell_type": "markdown",
   "metadata": {},
   "source": [
    "### Pass\n",
    "\n",
    "#### Notes:\n",
    "\n",
    "* `pass` được sử dụng khi một vòng lặp `for` không có nội dung bên trong, giúp tránh lỗi.\n",
    "\n",
    "#### Ví dụ"
   ]
  },
  {
   "cell_type": "code",
   "execution_count": 24,
   "metadata": {},
   "outputs": [],
   "source": [
    "for x in position_experience_requirements:\n",
    "    pass"
   ]
  },
  {
   "cell_type": "markdown",
   "metadata": {},
   "source": [
    "### Vòng lặp lồng nhau\n",
    "\n",
    "Có thể có một vòng lặp bên trong một vòng lặp khác."
   ]
  },
  {
   "cell_type": "code",
   "execution_count": 25,
   "metadata": {},
   "outputs": [
    {
     "name": "stdout",
     "output_type": "stream",
     "text": [
      "For the role of Data Scientist, you need experience in:\n",
      "  - Python\n",
      "  - SQL\n",
      "  - Machine Learning\n",
      "For the role of Machine Learning Engineer, you need experience in:\n",
      "  - Python\n",
      "  - SQL\n",
      "  - Machine Learning\n"
     ]
    }
   ],
   "source": [
    "roles = ['Data Scientist', 'Machine Learning Engineer']\n",
    "skills = ['Python', 'SQL', 'Machine Learning']\n",
    "\n",
    "for role in roles:\n",
    "    print(f'For the role of {role}, you need experience in:')\n",
    "    for skill in skills:\n",
    "        print(f'  - {skill}')"
   ]
  },
  {
   "cell_type": "markdown",
   "metadata": {},
   "source": [
    "### Ví dụ\n",
    "\n",
    "Dưới đây là một ví dụ phức tạp hơn về cách sử dụng vòng lặp `for`.\n",
    "\n",
    "Vòng lặp này kiểm tra trình độ của người dùng đối với từng vị trí dựa trên số năm kinh nghiệm của họ và trả về kết quả.\n",
    "\n",
    "* Đoạn mã định nghĩa một danh sách có tên `position_experience_requirements` với các số nguyên đại diện cho số năm kinh nghiệm tối thiểu yêu cầu cho các vị trí công việc trong ngành khoa học dữ liệu.\n",
    "* Đặt biến `user_years_of_experience` bằng 2.\n",
    "* Vòng lặp `for` lặp qua từng phần tử trong danh sách `position_experience_requirements`.\n",
    "* Bên trong vòng lặp, câu lệnh `if` kiểm tra xem `user_experience` có lớn hơn hoặc bằng `required_experience` cho một vị trí hay không.\n",
    "* Nếu điều kiện được thỏa mãn, in ra 'Qualified' (Đủ điều kiện); nếu không, in ra 'Not qualified' (Không đủ điều kiện).\n"
   ]
  },
  {
   "cell_type": "code",
   "execution_count": 26,
   "metadata": {},
   "outputs": [
    {
     "name": "stdout",
     "output_type": "stream",
     "text": [
      "Qualified\n",
      "Not qualified\n",
      "Qualified\n"
     ]
    }
   ],
   "source": [
    "position_experience_requirements = [1, 3, 2]\n",
    "user_years_of_experience = 2\n",
    "\n",
    "for required_experience in position_experience_requirements:\n",
    "    if user_years_of_experience >= required_experience:\n",
    "        print('Qualified')\n",
    "    else:\n",
    "        print('Not qualified')"
   ]
  },
  {
   "cell_type": "markdown",
   "metadata": {},
   "source": [
    "### Break\n",
    "\n",
    "Câu lệnh `break` có thể dừng vòng lặp trước khi nó duyệt qua tất cả các phần tử. Ở đây, `break` sẽ thoát khỏi vòng lặp sớm nếu điều kiện được thỏa mãn"
   ]
  },
  {
   "cell_type": "code",
   "execution_count": 27,
   "metadata": {},
   "outputs": [],
   "source": [
    "for required_experience in position_experience_requirements:\n",
    "    if user_years_of_experience >= required_experience:\n",
    "        break\n",
    "    else:\n",
    "        print('Not qualified')"
   ]
  },
  {
   "cell_type": "markdown",
   "metadata": {},
   "source": [
    "Nếu không có một danh sách cụ thể để duyệt qua? Và thay vào đó bản thân chỉ muốn lặp qua một số lần cụ thể? Khi đó mình sẽ sử dụng `range()`."
   ]
  },
  {
   "cell_type": "markdown",
   "metadata": {},
   "source": [
    "## `range()` function\n",
    "\n",
    "#### Notes\n",
    "\n",
    "* `range()` chạy một vòng lặp `for` một số lần cụ thể\n",
    "* Nó trả về một dãy số, bắt đầu từ 0 theo mặc định, và tăng dần theo 1 (theo mặc định), và kết thúc ở số đã chỉ định\n",
    "\n",
    "#### Ví dụ"
   ]
  },
  {
   "cell_type": "code",
   "execution_count": 28,
   "metadata": {},
   "outputs": [
    {
     "name": "stdout",
     "output_type": "stream",
     "text": [
      "0\n",
      "1\n",
      "2\n",
      "3\n"
     ]
    }
   ],
   "source": [
    "for x in range(4):\n",
    "    print(x)"
   ]
  },
  {
   "cell_type": "code",
   "execution_count": 29,
   "metadata": {},
   "outputs": [
    {
     "name": "stdout",
     "output_type": "stream",
     "text": [
      "1\n",
      "2\n",
      "3\n",
      "4\n",
      "5\n"
     ]
    }
   ],
   "source": [
    "for x in range(1,6):\n",
    "    print(x)"
   ]
  }
 ],
 "metadata": {
  "kernelspec": {
   "display_name": "Python 3",
   "language": "python",
   "name": "python3"
  },
  "language_info": {
   "codemirror_mode": {
    "name": "ipython",
    "version": 3
   },
   "file_extension": ".py",
   "mimetype": "text/x-python",
   "name": "python",
   "nbconvert_exporter": "python",
   "pygments_lexer": "ipython3",
   "version": "3.13.0"
  }
 },
 "nbformat": 4,
 "nbformat_minor": 2
}
