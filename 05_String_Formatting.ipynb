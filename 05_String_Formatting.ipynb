{
 "cells": [
  {
   "cell_type": "markdown",
   "metadata": {},
   "source": [
    "# **String Formatting**\n",
    "\n",
    "*Định dạng chuỗi*\n",
    "\n",
    "Trong python có nhiều cách khác nhau để in ra"
   ]
  },
  {
   "cell_type": "markdown",
   "metadata": {},
   "source": [
    "| Phương pháp        | Cú pháp                         | Ví dụ (in \"Hello Luke\")      | Mô tả                                                      |\n",
    "|--------------------|---------------------------------|------------------------------|------------------------------------------------------------|\n",
    "| **Concatenation**   | `'string' + variable`           | `'Hello ' + name`            | Kết hợp các chuỗi bằng cách nối trực tiếp chúng với nhau.  |\n",
    "| **% Formatting**    | `'string %s' % variable`        | `'Hello %s' % name`          | Sử dụng `%` như là một chỗ thay thế để thay thế chuỗi.      |\n",
    "| **str.format()**    | `'string {}'.format(variable)`  | `'Hello {}'.format(name)`    | Sử dụng dấu ngoặc nhọn `{}` làm chỗ thay thế để định dạng chuỗi. |\n",
    "| **f-strings**       | `f'string {variable}'`          | `f'Hello {name}'`            | Nhúng biểu thức vào trong chuỗi, có tiền tố `f`.             |\n",
    "| **join()**          | `'separator'.join([string, variable])` | `', '.join(['Hello', name])` | Kết hợp danh sách các chuỗi thành một chuỗi duy nhất với một ký tự phân tách. |\n"
   ]
  },
  {
   "cell_type": "code",
   "execution_count": 1,
   "metadata": {},
   "outputs": [],
   "source": [
    "role = 'Data Analyst'\n",
    "skill = 'Python'"
   ]
  },
  {
   "cell_type": "markdown",
   "metadata": {},
   "source": [
    "## **Concatenation +**\n",
    "\n",
    "*Kết hợp chuỗi bằng dấu `+`*\n",
    "\n",
    "Cách này đơn giản nhưng không linh hoạt như những phương pháp khác khi cần định dạng phức tạp"
   ]
  },
  {
   "cell_type": "code",
   "execution_count": 2,
   "metadata": {},
   "outputs": [
    {
     "data": {
      "text/plain": [
       "'Role: Data Analyst'"
      ]
     },
     "execution_count": 2,
     "metadata": {},
     "output_type": "execute_result"
    }
   ],
   "source": [
    "'Role: ' + role "
   ]
  },
  {
   "cell_type": "markdown",
   "metadata": {},
   "source": [
    "## **%-formatting**\n",
    "*(Cách này không được ưu chuộng vì rườm rà)*"
   ]
  },
  {
   "cell_type": "code",
   "execution_count": 3,
   "metadata": {},
   "outputs": [
    {
     "data": {
      "text/plain": [
       "'Role: Data Analyst, Skill required: Python'"
      ]
     },
     "execution_count": 3,
     "metadata": {},
     "output_type": "execute_result"
    }
   ],
   "source": [
    "'Role: %s, Skill required: %s' % (role, skill)"
   ]
  },
  {
   "cell_type": "markdown",
   "metadata": {},
   "source": [
    "## **f-Strings**\n",
    "*(Cách này được ưu chuộng nhiều vì dễ dùng)*"
   ]
  },
  {
   "cell_type": "code",
   "execution_count": 4,
   "metadata": {},
   "outputs": [
    {
     "name": "stdout",
     "output_type": "stream",
     "text": [
      "Role: Data Analyst, Skill required: Python\n"
     ]
    }
   ],
   "source": [
    "print(f'Role: {role}, Skill required: {skill}')"
   ]
  },
  {
   "cell_type": "markdown",
   "metadata": {},
   "source": [
    "## **str.format()**\n",
    "*Phương thức `str.format()` sử dụng dấu ngoặc nhọn `{}` làm chỗ thay thế. Nó linh hoạt hơn so với %-formatting và cho phép thay đổi thứ tự cũng như tái sử dụng các đối số.*"
   ]
  },
  {
   "cell_type": "code",
   "execution_count": 5,
   "metadata": {},
   "outputs": [
    {
     "data": {
      "text/plain": [
       "'Role: Data Analyst, Skill required: Python'"
      ]
     },
     "execution_count": 5,
     "metadata": {},
     "output_type": "execute_result"
    }
   ],
   "source": [
    "'Role: {}, Skill required: {}'.format(role, skill)"
   ]
  },
  {
   "cell_type": "code",
   "execution_count": 6,
   "metadata": {},
   "outputs": [
    {
     "data": {
      "text/plain": [
       "'Role: Data Nerd, Skill required: SQL'"
      ]
     },
     "execution_count": 6,
     "metadata": {},
     "output_type": "execute_result"
    }
   ],
   "source": [
    "'Role: {role}, Skill required: {skill}'.format(\n",
    "    role=\"Data Nerd\", skill=\"SQL\")"
   ]
  },
  {
   "cell_type": "markdown",
   "metadata": {},
   "source": [
    "## **Using join**\n",
    "*Phương thức `join()`hữu ích cho việc nối các phần tử của một iterable (ví dụ: chuỗi, danh sách) thành một chuỗi duy nhất, thường được phân tách bởi một ký tự đã chỉ định*"
   ]
  },
  {
   "cell_type": "code",
   "execution_count": 8,
   "metadata": {},
   "outputs": [
    {
     "name": "stdout",
     "output_type": "stream",
     "text": [
      "0, 1, 2, 3, 4, 5, 6, 7, 8, 9\n"
     ]
    }
   ],
   "source": [
    "years_expeirence = \"0123456789\"\n",
    "\n",
    "print(', '.join(years_expeirence))"
   ]
  },
  {
   "cell_type": "code",
   "execution_count": 9,
   "metadata": {},
   "outputs": [
    {
     "data": {
      "text/plain": [
       "'Role: Data Analyst, Skills required: Python, SQL'"
      ]
     },
     "execution_count": 9,
     "metadata": {},
     "output_type": "execute_result"
    }
   ],
   "source": [
    "skills = ['Python', 'SQL']\n",
    "'Role: ' + role + ', Skills required: ' + ', '.join(skills)"
   ]
  },
  {
   "cell_type": "markdown",
   "metadata": {},
   "source": [
    "# **Nên dùng `f-string`**"
   ]
  },
  {
   "cell_type": "markdown",
   "metadata": {},
   "source": []
  }
 ],
 "metadata": {
  "kernelspec": {
   "display_name": "Python 3",
   "language": "python",
   "name": "python3"
  },
  "language_info": {
   "codemirror_mode": {
    "name": "ipython",
    "version": 3
   },
   "file_extension": ".py",
   "mimetype": "text/x-python",
   "name": "python",
   "nbconvert_exporter": "python",
   "pygments_lexer": "ipython3",
   "version": "3.13.0"
  }
 },
 "nbformat": 4,
 "nbformat_minor": 2
}
