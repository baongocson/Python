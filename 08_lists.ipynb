{
 "cells": [
  {
   "cell_type": "markdown",
   "metadata": {},
   "source": [
    "# **List**\n",
    "*Danh sách*\n",
    "\n",
    "Dưới đây là bảng so sánh 4 kiểu dữ liệu container trong python:\n",
    "\n",
    "| Đặc điểm            | List                     | Dictionary                        | Set                          | Tuple                           |\n",
    "|---------------------|--------------------------|-----------------------------------|------------------------------|---------------------------------|\n",
    "| **Cú pháp**         | `[item1, item2, ...]`    | `{'key1': value1, 'key2': value2}`| `{item1, item2, ...}`         | `(item1, item2, ...)` hoặc `item,` |\n",
    "| **Loại Dữ liệu**    | Dãy (Sequence)           | Bản đồ (Mapping)                 | Tập hợp (Set)                 | Dãy (Sequence)                  |\n",
    "| **Thứ tự** (Order)         | Có thứ tự (Ordered)      | Không có thứ tự (Unordered)       | Không có thứ tự (Unordered)   | Có thứ tự (Ordered)             |\n",
    "| **Chỉ mục** (Indexing)        | Có (theo chỉ mục)        | Có (theo khóa)                   | Không có                     | Có (theo chỉ mục)              |\n",
    "| **Giá trị trùng lặp** (Duplicate Values)| Cho phép                 | Giá trị có thể trùng lặp, khóa không thể trùng lặp | Không cho phép             | Cho phép                        |\n",
    "| **Tính biến đổi** (Mutability)   | Có thể thay đổi (Mutable)| Có thể thay đổi (Mutable)        | Có thể thay đổi (Mutable)     | Không thể thay đổi (Immutable)  |\n",
    "| **Sử dụng**         | Dùng cho một tập hợp các phần tử có thứ tự | Dùng cho các cặp khóa-giá trị   | Dùng cho các phần tử duy nhất | Dùng cho dữ liệu cố định        |\n"
   ]
  },
  {
   "cell_type": "markdown",
   "metadata": {},
   "source": [
    "# **Notes**\n",
    "* Dùng để lưu trữ nhiều phần tử có thứ tự trong một biến.\n",
    "* Được tạo ra bằng cách sử dụng dấu [ ].\n",
    "* Các kiểu dữ liệu phổ biến trong danh sách: Integer, Float, String, Boolean, List, Dictionary, Tuple, Set, Object.\n",
    "* Có thể bao gồm danh sách trong danh sách.\n",
    "* Dễ dàng lưu trữ thông tin.\n",
    "\n",
    "# **Importance**\n",
    "Linh hoạt trong việc lưu trữ các chuỗi dữ liệu. Pandas có thể chuyển danh sách thành các đối tượng Series hoặc DataFrame để phân tích.\n",
    "\n",
    "## **Ví dụ**"
   ]
  },
  {
   "cell_type": "code",
   "execution_count": 1,
   "metadata": {},
   "outputs": [
    {
     "data": {
      "text/plain": [
       "['sql', 'tableau', 'excel']"
      ]
     },
     "execution_count": 1,
     "metadata": {},
     "output_type": "execute_result"
    }
   ],
   "source": [
    "job_skills = ['sql','tableau','excel']\n",
    "job_skills"
   ]
  },
  {
   "cell_type": "markdown",
   "metadata": {},
   "source": [
    "# **Indexing**\n",
    "*Chỉ mục*\n",
    "\n",
    "Dùng chỉ mục để lấy một phần tử củ thể trong danh sách\n",
    "\n",
    "**Notes: Chỉ mục bắt đầu từ `0` kết thúc là `-1`**"
   ]
  },
  {
   "cell_type": "code",
   "execution_count": 5,
   "metadata": {},
   "outputs": [
    {
     "name": "stdout",
     "output_type": "stream",
     "text": [
      "sql\n",
      "excel\n"
     ]
    }
   ],
   "source": [
    "print(job_skills[0])\n",
    "print(job_skills[-1])"
   ]
  },
  {
   "cell_type": "markdown",
   "metadata": {},
   "source": [
    "# **Methods**\n",
    "\n",
    "cú pháp `object.method()`"
   ]
  },
  {
   "cell_type": "markdown",
   "metadata": {},
   "source": [
    "## **Append**\n",
    "Thêm một phần tuwr vào cuối danh sách \n",
    "\n",
    "cú pháp: `object.append()`"
   ]
  },
  {
   "cell_type": "code",
   "execution_count": 6,
   "metadata": {},
   "outputs": [
    {
     "data": {
      "text/plain": [
       "['sql', 'tableau', 'excel', 'looker', 'looker']"
      ]
     },
     "execution_count": 7,
     "metadata": {},
     "output_type": "execute_result"
    }
   ],
   "source": [
    "job_skills.append('looker')\n",
    "\n",
    "job_skills"
   ]
  },
  {
   "cell_type": "markdown",
   "metadata": {},
   "source": [
    "## **Length()**\n",
    "Xem có bao nhiêu phần tử trong danh sách\n",
    "\n",
    "cú pháp: `len(object)`"
   ]
  },
  {
   "cell_type": "code",
   "execution_count": 8,
   "metadata": {},
   "outputs": [
    {
     "data": {
      "text/plain": [
       "5"
      ]
     },
     "execution_count": 8,
     "metadata": {},
     "output_type": "execute_result"
    }
   ],
   "source": [
    "len(job_skills)"
   ]
  },
  {
   "cell_type": "markdown",
   "metadata": {},
   "source": [
    "| Phương thức        | Mô tả                                                         | Ví dụ                                                              |\n",
    "|--------------------|---------------------------------------------------------------|--------------------------------------------------------------------|\n",
    "| **append()**       | Thêm một phần tử vào cuối danh sách.                          | `my_list.append(4)`                                                |\n",
    "| **extend()**       | Thêm tất cả phần tử từ một danh sách khác vào cuối danh sách.| `my_list.extend([ 4, 6])`                                           |\n",
    "| **insert()**       | Thêm một phần tử vào danh sách tại chỉ mục chỉ định. (chèn y vào vị trí x)         | `my_list.insert(x, y)`                                             |\n",
    "| **remove()**       | Xóa phần tử đầu tiên có giá trị xác định.                    | `my_list.remove(3)`                                                |\n",
    "| **pop()**          | Xóa phần tử tại chỉ mục chỉ định và trả về giá trị đó.       | `my_list.pop(1)`                                                   |\n",
    "| **clear()**        | Xóa tất cả các phần tử trong danh sách.                      | `my_list.clear()`                                                  |\n",
    "| **index()**        | Trả về chỉ mục đầu tiên của phần tử xác định.               | `my_list.index(3)`                                                 |\n",
    "| **count()**        | Đếm số lần xuất hiện của một phần tử trong danh sách.        | `my_list.count(3)`                                                 |\n",
    "| **sort()**         | Sắp xếp các phần tử trong danh sách theo thứ tự tăng dần.    | `my_list.sort()`                                                   |\n",
    "| **reverse()**      | Đảo ngược thứ tự các phần tử trong danh sách.                | `my_list.reverse()`                                                |\n",
    "| **copy()**         | Tạo một bản sao của danh sách.                               | `new_list = my_list.copy()`                                        |\n"
   ]
  },
  {
   "cell_type": "markdown",
   "metadata": {},
   "source": [
    "# **Ví dụ**\n",
    "\n",
    "## **Insert**"
   ]
  },
  {
   "cell_type": "code",
   "execution_count": 9,
   "metadata": {},
   "outputs": [
    {
     "data": {
      "text/plain": [
       "['sql', 'tableau', 'python', 'excel', 'looker', 'looker']"
      ]
     },
     "execution_count": 9,
     "metadata": {},
     "output_type": "execute_result"
    }
   ],
   "source": [
    "job_skills.insert(2,'python')\n",
    "\n",
    "job_skills"
   ]
  },
  {
   "cell_type": "markdown",
   "metadata": {},
   "source": [
    "## **Remove()**"
   ]
  },
  {
   "cell_type": "code",
   "execution_count": 10,
   "metadata": {},
   "outputs": [
    {
     "data": {
      "text/plain": [
       "['sql', 'tableau', 'python', 'excel', 'looker']"
      ]
     },
     "execution_count": 10,
     "metadata": {},
     "output_type": "execute_result"
    }
   ],
   "source": [
    "job_skills.remove('looker')\n",
    "\n",
    "job_skills"
   ]
  },
  {
   "cell_type": "markdown",
   "metadata": {},
   "source": [
    "# **Join lists**\n",
    "*Nối danh sách*\n",
    "\n",
    "Có nhiều cách khác nhau để nối (kết hợp) 2 hay nhiều danh sách với nhau:\n",
    "\n",
    "1. Nối bằng toán tử `+`"
   ]
  },
  {
   "cell_type": "code",
   "execution_count": 11,
   "metadata": {},
   "outputs": [
    {
     "data": {
      "text/plain": [
       "['SQL', 'Tableau', 'Excel']"
      ]
     },
     "execution_count": 11,
     "metadata": {},
     "output_type": "execute_result"
    }
   ],
   "source": [
    "skills1 = ['SQL', 'Tableau']\n",
    "skills2 = ['Excel']\n",
    "\n",
    "skills3 = skills1 + skills2\n",
    "skills3"
   ]
  },
  {
   "cell_type": "markdown",
   "metadata": {},
   "source": [
    "2. Thêm tất cả phần tử từ list này sang list khác bằng phương thức `.append()`\n",
    "Khi sử dụng .append(), ta chỉ có thể thêm từng phần tử vào cuối danh sách. Để thêm tất cả các phần tử từ danh sách này vào danh sách khác, thì cần sử dụng vòng lặp `for`."
   ]
  },
  {
   "cell_type": "code",
   "execution_count": 12,
   "metadata": {},
   "outputs": [
    {
     "data": {
      "text/plain": [
       "['Python', 'Power BI', 'SQL', 'Tableau', 'Excel']"
      ]
     },
     "execution_count": 12,
     "metadata": {},
     "output_type": "execute_result"
    }
   ],
   "source": [
    "skills4 = ['Python', 'Power BI']\n",
    "\n",
    "for x in skills3:\n",
    "    skills4.append(x)\n",
    "\n",
    "skills4"
   ]
  },
  {
   "cell_type": "markdown",
   "metadata": {},
   "source": [
    "3. Sử dụng phương thức `extend()` để thêm phần tử từ danh sách này vào danh sách khác\n",
    "Phương thức extend() cho phép thêm tất cả các phần tử từ một danh sách vào một danh sách khác, thay vì thêm từng phần tử như với .append()."
   ]
  },
  {
   "cell_type": "code",
   "execution_count": 13,
   "metadata": {},
   "outputs": [
    {
     "data": {
      "text/plain": [
       "['Statistics',\n",
       " 'Machine Learning',\n",
       " 'Python',\n",
       " 'Power BI',\n",
       " 'SQL',\n",
       " 'Tableau',\n",
       " 'Excel']"
      ]
     },
     "execution_count": 13,
     "metadata": {},
     "output_type": "execute_result"
    }
   ],
   "source": [
    "skills5 = ['Statistics', 'Machine Learning']\n",
    "\n",
    "skills5.extend(skills4)\n",
    "\n",
    "skills5"
   ]
  },
  {
   "cell_type": "markdown",
   "metadata": {},
   "source": [
    "## **Join()**\n",
    "Phương thức `.join()` được sử dụng để nối một chuỗi các chuỗi con với nhau, sử dụng một dấu phân cách cụ thể giữa mỗi phần tử trong quá trình nối. Phương thức này thường được dùng để định dạng đầu ra cho dễ đọc."
   ]
  },
  {
   "cell_type": "code",
   "execution_count": 14,
   "metadata": {},
   "outputs": [
    {
     "name": "stdout",
     "output_type": "stream",
     "text": [
      "I have these skills: Python, SQL, Excel\n"
     ]
    }
   ],
   "source": [
    "skills = ['Python', 'SQL', 'Excel']\n",
    "\n",
    "print('I have these skills: ' +  ', '.join(skills))"
   ]
  },
  {
   "cell_type": "markdown",
   "metadata": {},
   "source": [
    "# **Slicing lists**\n",
    "Cắt danh sách (slicing) là cách để trích xuất một phần của danh sách bằng cách sử dụng chỉ mục. Bạn có thể chỉ định điểm bắt đầu, điểm kết thúc và bước nhảy giữa các phần tử.\n",
    "\n",
    "**Cú pháp: `list[start:end:step]`**\n",
    "\n",
    "* start: Chỉ mục bắt đầu (bao gồm phần tử tại chỉ mục này).\n",
    "\n",
    "* end: Chỉ mục kết thúc (không bao gồm phần tử tại chỉ mục này).\n",
    "\n",
    "* step: Bước nhảy giữa các phần tử (mặc định là 1)."
   ]
  },
  {
   "cell_type": "code",
   "execution_count": 15,
   "metadata": {},
   "outputs": [
    {
     "data": {
      "text/plain": [
       "['Python', 'SQL']"
      ]
     },
     "execution_count": 15,
     "metadata": {},
     "output_type": "execute_result"
    }
   ],
   "source": [
    "skills = ['Python', 'SQL', 'Excel']\n",
    "\n",
    "first_two = skills[0:2]\n",
    "first_two  "
   ]
  },
  {
   "cell_type": "markdown",
   "metadata": {},
   "source": [
    "**Ta có thể bỏ qua các phần tử khi sử dụng slicing:**\n",
    "\n",
    "1. Bỏ qua start: Khi bỏ qua giá trị bắt đầu, Python sẽ mặc định bắt đầu từ phần tử đầu tiên (chỉ mục 0)."
   ]
  },
  {
   "cell_type": "code",
   "execution_count": 16,
   "metadata": {},
   "outputs": [
    {
     "data": {
      "text/plain": [
       "['Python', 'SQL']"
      ]
     },
     "execution_count": 16,
     "metadata": {},
     "output_type": "execute_result"
    }
   ],
   "source": [
    "also_first_two = skills[:2:1]\n",
    "also_first_two"
   ]
  },
  {
   "cell_type": "markdown",
   "metadata": {},
   "source": [
    "2. Bỏ qua end: Khi bỏ qua giá trị kết thúc, Python sẽ cắt đến phần tử cuối cùng trong danh sách."
   ]
  },
  {
   "cell_type": "code",
   "execution_count": 17,
   "metadata": {},
   "outputs": [
    {
     "data": {
      "text/plain": [
       "['SQL', 'Excel']"
      ]
     },
     "execution_count": 17,
     "metadata": {},
     "output_type": "execute_result"
    }
   ],
   "source": [
    "last_two = skills[1::1]\n",
    "last_two"
   ]
  },
  {
   "cell_type": "markdown",
   "metadata": {},
   "source": [
    "3. Bỏ qua step: Khi bỏ qua bước nhảy, Python sẽ mặc định sử dụng bước nhảy là 1, tức là lấy từng phần tử liên tiếp."
   ]
  },
  {
   "cell_type": "code",
   "execution_count": 18,
   "metadata": {},
   "outputs": [
    {
     "data": {
      "text/plain": [
       "['Python']"
      ]
     },
     "execution_count": 18,
     "metadata": {},
     "output_type": "execute_result"
    }
   ],
   "source": [
    "last_one = skills[0:1:]\n",
    "last_one"
   ]
  },
  {
   "cell_type": "code",
   "execution_count": 19,
   "metadata": {},
   "outputs": [
    {
     "data": {
      "text/plain": [
       "['Python', 'SQL', 'Excel']"
      ]
     },
     "execution_count": 19,
     "metadata": {},
     "output_type": "execute_result"
    }
   ],
   "source": [
    "full_list = skills[:]\n",
    "full_list"
   ]
  },
  {
   "cell_type": "code",
   "execution_count": 20,
   "metadata": {},
   "outputs": [
    {
     "data": {
      "text/plain": [
       "['Python', 'Excel', 'Java']"
      ]
     },
     "execution_count": 20,
     "metadata": {},
     "output_type": "execute_result"
    }
   ],
   "source": [
    "skills = ['Python', 'SQL', 'Excel', 'R', 'Java']\n",
    "\n",
    "every_second = skills[0::2]\n",
    "every_second"
   ]
  },
  {
   "cell_type": "markdown",
   "metadata": {},
   "source": [
    "# **Unpack List**\n",
    "*Giải nén danh sách*\n",
    "\n",
    "Giải nén danh sách (unpacking) là khi gán mỗi giá trị trong một danh sách vào một biến trong một câu lệnh duy nhất. Bạn có thể gán trực tiếp các phần tử của danh sách vào các biến."
   ]
  },
  {
   "cell_type": "code",
   "execution_count": 22,
   "metadata": {},
   "outputs": [
    {
     "name": "stdout",
     "output_type": "stream",
     "text": [
      "sql\n",
      "bigquery\n",
      "python\n",
      "excel\n"
     ]
    }
   ],
   "source": [
    "job_skills = ['sql', 'bigquery', 'python', 'excel']\n",
    "\n",
    "skill1, skill2, skill3, skill4 = job_skills\n",
    "\n",
    "print(skill1)\n",
    "print(skill2)\n",
    "print(skill3)\n",
    "print(skill4)"
   ]
  },
  {
   "cell_type": "markdown",
   "metadata": {},
   "source": [
    "# **Extend Unpack List**\n",
    "*Giải nén mở rộng*\n",
    "\n",
    "Giải nén mở rộng là khi gán một phần của danh sách vào một biến dưới dạng danh sách."
   ]
  },
  {
   "cell_type": "code",
   "execution_count": 23,
   "metadata": {},
   "outputs": [
    {
     "name": "stdout",
     "output_type": "stream",
     "text": [
      "['sql', 'bigquery']\n",
      "python\n",
      "excel\n"
     ]
    }
   ],
   "source": [
    "*sql_skills, skill3, skill4 = job_skills\n",
    "\n",
    "print(sql_skills)  # *sql_skills lưu những phần không được gán\n",
    "print(skill3)  \n",
    "print(skill4)"
   ]
  }
 ],
 "metadata": {
  "kernelspec": {
   "display_name": "Python 3",
   "language": "python",
   "name": "python3"
  },
  "language_info": {
   "codemirror_mode": {
    "name": "ipython",
    "version": 3
   },
   "file_extension": ".py",
   "mimetype": "text/x-python",
   "name": "python",
   "nbconvert_exporter": "python",
   "pygments_lexer": "ipython3",
   "version": "3.13.0"
  }
 },
 "nbformat": 4,
 "nbformat_minor": 2
}
