{
 "cells": [
  {
   "cell_type": "markdown",
   "metadata": {},
   "source": [
    "# List Comprehensions"
   ]
  },
  {
   "cell_type": "markdown",
   "metadata": {},
   "source": [
    "## Notes\n",
    "\n",
    "* Tạo ra một danh sách mới (với cú pháp ngắn gọn) dựa trên giá trị của một danh sách có sẵn.\n",
    "\n",
    "- `list` comprehension:\n",
    "- `set` comprehension\n",
    "- `tuple` comprehension\n",
    "- `dictionary` comprehension\n",
    "\n",
    "## Importance\n",
    "\n",
    "Ngắn gọn hơn. Hữu ích cho việc thao tác và lọc dữ liệu trong pandas."
   ]
  },
  {
   "cell_type": "code",
   "execution_count": 10,
   "metadata": {},
   "outputs": [
    {
     "data": {
      "text/plain": [
       "[0, 1, 2, 3, 4, 5, 6, 7, 8, 9]"
      ]
     },
     "execution_count": 10,
     "metadata": {},
     "output_type": "execute_result"
    }
   ],
   "source": [
    "## Khi không dùng list comprehension\n",
    "numbers = []\n",
    "for x in range(10):\n",
    "    numbers.append(x)\n",
    "\n",
    "numbers"
   ]
  },
  {
   "cell_type": "code",
   "execution_count": 11,
   "metadata": {},
   "outputs": [
    {
     "data": {
      "text/plain": [
       "[0, 1, 2, 3, 4, 5, 6, 7, 8, 9]"
      ]
     },
     "execution_count": 11,
     "metadata": {},
     "output_type": "execute_result"
    }
   ],
   "source": [
    "# tạo một danh sách từ 0 đến 9 \n",
    "numbers = [x for x in range(10)]\n",
    "numbers"
   ]
  },
  {
   "cell_type": "markdown",
   "metadata": {},
   "source": [
    "## Ví Dụ # 1\n",
    "\n",
    "Chúng ta sẽ sửa đổi ví dụ đã sử dụng trong vòng lặp `for`. Thay vì có cả câu lệnh in với \"`Position requires X years of experience`\", chúng ta chỉ in ra số năm kinh nghiệm yêu cầu. Đây là phiên bản đơn giản hóa của mã trước đó."
   ]
  },
  {
   "cell_type": "code",
   "execution_count": null,
   "metadata": {},
   "outputs": [
    {
     "name": "stdout",
     "output_type": "stream",
     "text": [
      "1\n",
      "2\n",
      "3\n"
     ]
    }
   ],
   "source": [
    "position_experience_requirements = [1, 2, 3]\n",
    "\n",
    "for x in position_experience_requirements:\n",
    "    print(x)"
   ]
  },
  {
   "cell_type": "markdown",
   "metadata": {},
   "source": [
    "còn khi sử dụng list comprehension để rút gọn đoạn mã này.\n",
    "\n",
    "- Mã xác định `position_experience_requirements` là một danh sách các số nguyên đại diện cho số năm kinh nghiệm tối thiểu yêu cầu cho các vị trí công việc khác nhau.\n",
    "- Vòng lặp `for` đi qua từng mục trong danh sách `position_experience_requirements` và in ra `requirement`."
   ]
  },
  {
   "cell_type": "code",
   "execution_count": 18,
   "metadata": {},
   "outputs": [
    {
     "data": {
      "text/plain": [
       "[1, 2, 3]"
      ]
     },
     "execution_count": 18,
     "metadata": {},
     "output_type": "execute_result"
    }
   ],
   "source": [
    "position_experience_requirements = [1, 2, 3]\n",
    "\n",
    "experience = [x for x in position_experience_requirements]\n",
    "\n",
    "# Lúc này nó sẽ tạo ra một list mới chứa các phần tử của list cũ\n",
    "experience"
   ]
  },
  {
   "cell_type": "markdown",
   "metadata": {},
   "source": [
    "Thêm một biến `user_experience`"
   ]
  },
  {
   "cell_type": "code",
   "execution_count": 14,
   "metadata": {},
   "outputs": [
    {
     "data": {
      "text/plain": [
       "2"
      ]
     },
     "execution_count": 14,
     "metadata": {},
     "output_type": "execute_result"
    }
   ],
   "source": [
    "user_experience = 2\n",
    "user_experience"
   ]
  },
  {
   "cell_type": "markdown",
   "metadata": {},
   "source": [
    "Bây giờ, chúng ta sẽ thêm một điều kiện if vào list comprehension. Điều kiện này kiểm tra xem kinh nghiệm của người dùng (`user_experience`) có lớn hơn hoặc bằng với mỗi phần tử (`x`) trong danh sách `position_experience_requirements` hay không.\n",
    "\n",
    "```python\n",
    "if user_experience >= x\n",
    "```\n",
    "Nó chỉ trả về những công việc mà yêu cầu kinh nghiệm đã được đáp ứng hoặc thấp hơn kinh nghiệm của người dùng"
   ]
  },
  {
   "cell_type": "code",
   "execution_count": 19,
   "metadata": {},
   "outputs": [
    {
     "data": {
      "text/plain": [
       "[1, 2]"
      ]
     },
     "execution_count": 19,
     "metadata": {},
     "output_type": "execute_result"
    }
   ],
   "source": [
    "# Tạo một danh sách các vị trí công việc mà người dùng đủ điều kiện\n",
    "    \n",
    "qualified_positions= [x for x in position_experience_requirements if user_experience>= x]\n",
    "\n",
    "qualified_positions"
   ]
  }
 ],
 "metadata": {
  "kernelspec": {
   "display_name": "Python 3",
   "language": "python",
   "name": "python3"
  },
  "language_info": {
   "codemirror_mode": {
    "name": "ipython",
    "version": 3
   },
   "file_extension": ".py",
   "mimetype": "text/x-python",
   "name": "python",
   "nbconvert_exporter": "python",
   "pygments_lexer": "ipython3",
   "version": "3.13.0"
  }
 },
 "nbformat": 4,
 "nbformat_minor": 2
}
