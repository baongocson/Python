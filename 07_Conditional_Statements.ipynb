{
 "cells": [
  {
   "cell_type": "markdown",
   "metadata": {},
   "source": [
    "# **Conditional Statements**\n",
    "*Câu lệnh điều kiện*"
   ]
  },
  {
   "cell_type": "markdown",
   "metadata": {},
   "source": [
    "## **Notes**\n",
    "\n",
    "`if`, `elif` và `else` là các câu lệnh điều kiện kiểm soát luồng thực thi dựa trên việc một điều kiện là Đúng (True) hay Sai (False)\n",
    "\n",
    "| Thành phần | Mục đích                     | Điều kiện được kiểm tra           | Hành động nếu đúng                         |\n",
    "|------------|------------------------------|------------------------------------|-------------------------------------------|\n",
    "| if         | Kiểm tra điều kiện đầu tiên  | Điều kiện đầu tiên được kiểm tra   | Thực thi khối lệnh nếu điều kiện đúng     |\n",
    "| elif       | Kiểm tra điều kiện tiếp theo | Điều kiện tiếp theo, nếu `if` sai  | Thực thi khối lệnh nếu điều kiện này đúng |\n",
    "| else       | Phương án dự phòng           | None                          | Thực thi khối lệnh nếu tất cả các điều kiện trên đều sai |\n"
   ]
  },
  {
   "cell_type": "markdown",
   "metadata": {},
   "source": [
    "Nếu điều kiện đúng thì câu lệnh tiếp sẽ được thực hiện luôn"
   ]
  },
  {
   "cell_type": "code",
   "execution_count": 3,
   "metadata": {},
   "outputs": [
    {
     "name": "stdout",
     "output_type": "stream",
     "text": [
      "What's Up Data Nerd\n"
     ]
    }
   ],
   "source": [
    "if True:\n",
    "    print(\"What's Up Data Nerd\")"
   ]
  },
  {
   "cell_type": "markdown",
   "metadata": {},
   "source": [
    "Còn nếu điều kiện đầu tiên sai, nó sẽ thực hiện câu lệnh tiếp"
   ]
  },
  {
   "cell_type": "code",
   "execution_count": 4,
   "metadata": {},
   "outputs": [
    {
     "name": "stdout",
     "output_type": "stream",
     "text": [
      "What's up Data Nerd\n"
     ]
    }
   ],
   "source": [
    "if False:\n",
    "    print(\"Hey Data Nerd\")\n",
    "else:\n",
    "    print(\"What's up Data Nerd\")"
   ]
  },
  {
   "cell_type": "markdown",
   "metadata": {},
   "source": [
    "# **if**\n",
    "## **Notes**\n",
    "`if`: Kiểm tra một điều kiện. Nếu điều kiện đúng, khối mã dưới câu lệnh `if` sẽ được thực thi. Nếu điều kiện sai, nó sẽ bỏ qua khối mã này.\n",
    "## **Ví dụ**"
   ]
  },
  {
   "cell_type": "code",
   "execution_count": 5,
   "metadata": {},
   "outputs": [
    {
     "data": {
      "text/plain": [
       "'Skill Match!'"
      ]
     },
     "execution_count": 5,
     "metadata": {},
     "output_type": "execute_result"
    }
   ],
   "source": [
    "applicant_skill = 'SQL'\n",
    "job_skill = 'SQL'\n",
    "result = 'No Skills Match'\n",
    "\n",
    "if applicant_skill == job_skill:\n",
    "    result = 'Skill Match!'\n",
    "\n",
    "result"
   ]
  },
  {
   "cell_type": "code",
   "execution_count": 7,
   "metadata": {},
   "outputs": [
    {
     "data": {
      "text/plain": [
       "'No Skills Match'"
      ]
     },
     "execution_count": 7,
     "metadata": {},
     "output_type": "execute_result"
    }
   ],
   "source": [
    "applicant_skill = 'SQL'\n",
    "job_skill = 'python'\n",
    "result = 'No Skills Match'\n",
    "\n",
    "if applicant_skill == job_skill:\n",
    "    result = 'Skill Match!'\n",
    "\n",
    "result"
   ]
  },
  {
   "cell_type": "markdown",
   "metadata": {},
   "source": [
    "# **elif**\n",
    "## **Notes**\n",
    "`elif`: Theo sau một câu lệnh if hoặc một câu lệnh `elif` khác. Nó có nghĩa là \"nếu các điều kiện trước đó không đúng, thì kiểm tra điều kiện này\". Nếu điều kiện của `elif` đúng, khối lệnh của nó sẽ được thực thi.\n",
    "## **Ví dụ**"
   ]
  },
  {
   "cell_type": "code",
   "execution_count": 8,
   "metadata": {},
   "outputs": [
    {
     "data": {
      "text/plain": [
       "'Mid-level Data Analyst position.'"
      ]
     },
     "execution_count": 8,
     "metadata": {},
     "output_type": "execute_result"
    }
   ],
   "source": [
    "applicant_skill = 'SQL'\n",
    "job_skill = 'SQL'\n",
    "result = 'No Skills Match'\n",
    "years_experience = 3\n",
    "\n",
    "if applicant_skill == job_skill and years_experience < 2:\n",
    "    result = 'Junior Data Analyst position.'\n",
    "elif applicant_skill == job_skill and years_experience <= 5:\n",
    "    result = 'Mid-level Data Analyst position.'\n",
    "elif applicant_skill == job_skill and years_experience > 5:\n",
    "    result = 'Senior Data Analyst position.'\n",
    "\n",
    "result"
   ]
  },
  {
   "cell_type": "markdown",
   "metadata": {},
   "source": [
    "# **else**\n",
    "## **Notes**\n",
    "`else` sẽ chạy nếu tất cả điều kiện trước đó đều sai\n",
    "## **Ví dụ**"
   ]
  },
  {
   "cell_type": "code",
   "execution_count": 10,
   "metadata": {},
   "outputs": [
    {
     "data": {
      "text/plain": [
       "'No Match Found'"
      ]
     },
     "execution_count": 10,
     "metadata": {},
     "output_type": "execute_result"
    }
   ],
   "source": [
    "years_experience = 1\n",
    "\n",
    "if applicant_skill == job_skill and (years_experience >= 2):\n",
    "    result = 'Skill & Experience Match'\n",
    "else:\n",
    "    result = 'No Match Found'\n",
    "result"
   ]
  },
  {
   "cell_type": "markdown",
   "metadata": {},
   "source": [
    "# **Pass**\n",
    "## **Notes**\n",
    "Câu lệnh `if` không thể để trống, nhưng nếu bạn có một câu lệnh `if` mà không có gì trong đó, bạn có thể sử dụng `pass` để tránh gặp lỗi. (pass dùng để khi mình chưa nghĩ ra điều kiện cần thiết thêm vào câu lệnh)\n",
    "## **Ví dụ**"
   ]
  },
  {
   "cell_type": "code",
   "execution_count": 12,
   "metadata": {},
   "outputs": [
    {
     "ename": "_IncompleteInputError",
     "evalue": "incomplete input (1859038877.py, line 2)",
     "output_type": "error",
     "traceback": [
      "\u001b[1;36m  Cell \u001b[1;32mIn[12], line 2\u001b[1;36m\u001b[0m\n\u001b[1;33m    if applicant_skill == job_skill:\u001b[0m\n\u001b[1;37m                                    ^\u001b[0m\n\u001b[1;31m_IncompleteInputError\u001b[0m\u001b[1;31m:\u001b[0m incomplete input\n"
     ]
    }
   ],
   "source": [
    "# Thử để tróng điều kiện\n",
    "if applicant_skill == job_skill:"
   ]
  },
  {
   "cell_type": "code",
   "execution_count": 13,
   "metadata": {},
   "outputs": [],
   "source": [
    "\n",
    "# Sử dụng pass tránh gặp lỗi\n",
    "if applicant_skill == job_skill:\n",
    "    pass"
   ]
  },
  {
   "cell_type": "markdown",
   "metadata": {},
   "source": [
    "# **Notes**\n",
    "* Ta có thể dùng `if`, `elif` và `else` trong cùng một chương trình\n",
    "* Ngoài ra, ta cũng có thể sử dụng các toán tử logic (ví dụ: and, or, not) để kết hợp các câu lệnh điều kiện.\n",
    "# **Ví dụ**"
   ]
  },
  {
   "cell_type": "code",
   "execution_count": 14,
   "metadata": {},
   "outputs": [
    {
     "data": {
      "text/plain": [
       "'More experience needed'"
      ]
     },
     "execution_count": 14,
     "metadata": {},
     "output_type": "execute_result"
    }
   ],
   "source": [
    "if applicant_skill != job_skill:\n",
    "    result = 'Skills still needed'\n",
    "elif applicant_skill== job_skill and years_experience < 2:\n",
    "    result = 'More experience needed'\n",
    "else:\n",
    "    result = 'Experience matches!'\n",
    "\n",
    "result"
   ]
  }
 ],
 "metadata": {
  "kernelspec": {
   "display_name": "Python 3",
   "language": "python",
   "name": "python3"
  },
  "language_info": {
   "codemirror_mode": {
    "name": "ipython",
    "version": 3
   },
   "file_extension": ".py",
   "mimetype": "text/x-python",
   "name": "python",
   "nbconvert_exporter": "python",
   "pygments_lexer": "ipython3",
   "version": "3.13.0"
  }
 },
 "nbformat": 4,
 "nbformat_minor": 2
}
