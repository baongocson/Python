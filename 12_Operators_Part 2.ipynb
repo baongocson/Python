{
 "cells": [
  {
   "cell_type": "markdown",
   "metadata": {},
   "source": [
    "# Operators Part 2\n",
    "*Toán tử 2*"
   ]
  },
  {
   "cell_type": "markdown",
   "metadata": {},
   "source": [
    "## Notes\n",
    "\n",
    "* **Toán tử** được sử dụng để thực hiện các phép toán trên các biến và giá trị.\n",
    "* Trừ mấy loại toán tử ở phần 1 thì còn các loại sau đây:\n",
    "  * Logical operators: Toán tử logic\n",
    "  * Identity operators: Toán tử nhận dạng\n",
    "  * Membership operators: Toán tử thành viên\n",
    "  * Bitwise operators: Toán tử bitwise\n",
    "\n",
    "## Importacen\n",
    "\n",
    "- **Toán tử logic** được sử dụng để kết hợp các câu lệnh điều kiện\n",
    "- **toán tử nhận dạng** để so sánh bản chất đối tượng\n",
    "- **toán tử thành viên** để kiểm tra sự có mặt của dữ liệu trong các chuỗi\n",
    "- **toán tử bitwise** để thao tác với từng bit riêng lẻ\n",
    "\n",
    " *tất cả đều rất quan trọng trong các phép toán dữ liệu phức tạp trong Python.*"
   ]
  },
  {
   "cell_type": "markdown",
   "metadata": {},
   "source": [
    "## Types of Operators"
   ]
  },
  {
   "cell_type": "markdown",
   "metadata": {},
   "source": [
    "### Logical Operators\n",
    "\n",
    "Toán tử logic kết nối hai hoặc nhiều điều kiện và đánh giá tính đúng hay sai của các điều kiện kết hợp.\n",
    "\n",
    "| Operator | Name     | Example |\n",
    "|----------|----------|---------|\n",
    "| and      | Logical AND | x and y |\n",
    "| or       | Logical OR  | x or y  |\n",
    "| not      | Logical NOT | not x   |\n"
   ]
  },
  {
   "cell_type": "code",
   "execution_count": 20,
   "metadata": {},
   "outputs": [
    {
     "data": {
      "text/plain": [
       "False"
      ]
     },
     "execution_count": 20,
     "metadata": {},
     "output_type": "execute_result"
    }
   ],
   "source": [
    "job_status_luke = not True\n",
    "# vì nó KHÔNG ĐÚNG nên khi in ra nó sẽ SAI\n",
    "\n",
    "job_status_luke"
   ]
  },
  {
   "cell_type": "code",
   "execution_count": 21,
   "metadata": {},
   "outputs": [
    {
     "data": {
      "text/plain": [
       "False"
      ]
     },
     "execution_count": 21,
     "metadata": {},
     "output_type": "execute_result"
    }
   ],
   "source": [
    "job_status_luke = False\n",
    "job_status_kelly = True\n",
    "\n",
    "# Kiểm tra nếu cae 2 cùng True thì mới in ra True \n",
    "job_status_luke and job_status_kelly"
   ]
  },
  {
   "cell_type": "markdown",
   "metadata": {},
   "source": [
    "Lỗi sai thường gặp là lỗi viết HOA"
   ]
  },
  {
   "cell_type": "code",
   "execution_count": 22,
   "metadata": {},
   "outputs": [
    {
     "ename": "SyntaxError",
     "evalue": "invalid syntax (3596967781.py, line 1)",
     "output_type": "error",
     "traceback": [
      "\u001b[1;36m  Cell \u001b[1;32mIn[22], line 1\u001b[1;36m\u001b[0m\n\u001b[1;33m    job_status_luke AND job_status_luke\u001b[0m\n\u001b[1;37m                    ^\u001b[0m\n\u001b[1;31mSyntaxError\u001b[0m\u001b[1;31m:\u001b[0m invalid syntax\n"
     ]
    }
   ],
   "source": [
    "job_status_luke AND job_status_luke"
   ]
  },
  {
   "cell_type": "code",
   "execution_count": null,
   "metadata": {},
   "outputs": [
    {
     "data": {
      "text/plain": [
       "True"
      ]
     },
     "execution_count": 4,
     "metadata": {},
     "output_type": "execute_result"
    }
   ],
   "source": [
    "# Khi dùng or chỉ cần 1 bên True thì sẽ trả về True\n",
    "job_status_luke or job_status_kelly"
   ]
  },
  {
   "cell_type": "markdown",
   "metadata": {},
   "source": [
    "### Identity Operators\n",
    "\n",
    " kiểm tra xem hai biến có chiếm cùng một vị trí bộ nhớ hay không, tức là chúng có giống nhau hay không\n",
    "\n",
    "| Operator | Name               | Example   |\n",
    "|----------|--------------------|-----------|\n",
    "| is       | Identity           | x is y    |\n",
    "| is not   | Not identity       | x is not y|\n"
   ]
  },
  {
   "cell_type": "markdown",
   "metadata": {},
   "source": [
    "## Notes: \n",
    "- Đây *KHÔNG* phải là việc kiểm tra xem một thứ có bằng một thứ khác hay không."
   ]
  },
  {
   "cell_type": "code",
   "execution_count": null,
   "metadata": {},
   "outputs": [
    {
     "name": "stdout",
     "output_type": "stream",
     "text": [
      "False\n",
      "id của salary_kelly: 1878159523056\n"
     ]
    },
    {
     "data": {
      "text/plain": [
       "'id của salary_luke: 1878159519280'"
      ]
     },
     "execution_count": 12,
     "metadata": {},
     "output_type": "execute_result"
    }
   ],
   "source": [
    "salary_kelly = 100_000\n",
    "salary_luke = 100_000\n",
    "\n",
    "print(salary_kelly is salary_luke)\n",
    "\n",
    "print(f'id của salary_kelly: {id(salary_kelly)}' )\n",
    "f'id của salary_luke: {id(salary_luke)}'"
   ]
  },
  {
   "cell_type": "code",
   "execution_count": null,
   "metadata": {},
   "outputs": [
    {
     "data": {
      "text/plain": [
       "True"
      ]
     },
     "metadata": {},
     "output_type": "display_data"
    }
   ],
   "source": [
    "lukes_skills = ['Python', 'R', 'SQL']\n",
    "kellys_skills = lukes_skills\n",
    "\n",
    "lukes_skills is kellys_skills"
   ]
  },
  {
   "cell_type": "markdown",
   "metadata": {},
   "source": [
    "### Membership Operators\n",
    "\n",
    "Toán tử thành viên kiểm tra sự có mặt của một phần tử trong một chuỗi, như chuỗi, danh sách, hoặc tuple.\n",
    "\n",
    "| Operator | Name            | Example   |\n",
    "|----------|-----------------|-----------|\n",
    "| in       | Membership      | x in y    |\n",
    "| not in   | Not membership  | x not in y|\n"
   ]
  },
  {
   "cell_type": "code",
   "execution_count": null,
   "metadata": {},
   "outputs": [
    {
     "data": {
      "text/plain": [
       "True"
      ]
     },
     "metadata": {},
     "output_type": "display_data"
    }
   ],
   "source": [
    "'Data' in 'Data Nerd'"
   ]
  },
  {
   "cell_type": "code",
   "execution_count": null,
   "metadata": {},
   "outputs": [
    {
     "data": {
      "text/plain": [
       "False"
      ]
     },
     "metadata": {},
     "output_type": "display_data"
    }
   ],
   "source": [
    "'data' in 'Data Nerd'"
   ]
  },
  {
   "cell_type": "code",
   "execution_count": null,
   "metadata": {},
   "outputs": [
    {
     "ename": "TypeError",
     "evalue": "argument of type 'int' is not iterable",
     "output_type": "error",
     "traceback": [
      "\u001b[1;31m---------------------------------------------------------------------------\u001b[0m",
      "\u001b[1;31mTypeError\u001b[0m                                 Traceback (most recent call last)",
      "Cell \u001b[1;32mIn[13], line 1\u001b[0m\n\u001b[1;32m----> 1\u001b[0m \u001b[38;5;241;43m100\u001b[39;49m\u001b[43m \u001b[49m\u001b[38;5;129;43;01min\u001b[39;49;00m\u001b[43m \u001b[49m\u001b[38;5;241;43m100_000\u001b[39;49m\n",
      "\u001b[1;31mTypeError\u001b[0m: argument of type 'int' is not iterable"
     ]
    }
   ],
   "source": [
    "100 in 100_000"
   ]
  },
  {
   "cell_type": "code",
   "execution_count": null,
   "metadata": {},
   "outputs": [
    {
     "data": {
      "text/plain": [
       "True"
      ]
     },
     "metadata": {},
     "output_type": "display_data"
    }
   ],
   "source": [
    "100 in [100, 200, 300]"
   ]
  },
  {
   "cell_type": "code",
   "execution_count": null,
   "metadata": {},
   "outputs": [
    {
     "data": {
      "text/plain": [
       "True"
      ]
     },
     "metadata": {},
     "output_type": "display_data"
    }
   ],
   "source": [
    "'Python' in ['Python', 'R', 'SQL']"
   ]
  },
  {
   "cell_type": "markdown",
   "metadata": {},
   "source": [
    "### Bitwise Operators\n",
    "\n",
    "Toán tử bitwise thực hiện các phép toán bit-by-bit trên các số nhị phân.\n",
    "\n",
    "| Operator | Name        | Example |\n",
    "|----------|-------------|---------|\n",
    "| &        | Bitwise AND | x & y   |\n",
    "| \\|       | Bitwise OR  | x \\| y  |\n",
    "| ^        | Bitwise XOR | x ^ y   |\n",
    "| ~        | Bitwise NOT | ~x      |\n",
    "| <<       | Left Shift  | x << y  |\n",
    "| >>       | Right Shift | x >> y  |\n",
    "\n",
    "## Notes:\n",
    "- Các phép toán bitwise nằm ngoài phạm vi sử dụng Python cho Phân tích Dữ liệu.\n",
    "\n",
    "- Có thể sử dụng kỹ thuật `&` và `|` thay thế cho `and` và `or` trong so sánh Boolean, NHƯNG điều này sẽ làm mã khó đọc hơn.\n",
    "\n",
    "- Trong pandas sẽ gặp `&` và `|` "
   ]
  },
  {
   "cell_type": "code",
   "execution_count": null,
   "metadata": {},
   "outputs": [
    {
     "data": {
      "text/plain": [
       "False"
      ]
     },
     "metadata": {},
     "output_type": "display_data"
    }
   ],
   "source": [
    "# and\n",
    "True & False"
   ]
  },
  {
   "cell_type": "code",
   "execution_count": null,
   "metadata": {},
   "outputs": [
    {
     "data": {
      "text/plain": [
       "True"
      ]
     },
     "metadata": {},
     "output_type": "display_data"
    }
   ],
   "source": [
    "# or\n",
    "True | False"
   ]
  },
  {
   "cell_type": "markdown",
   "metadata": {},
   "source": [
    "### NOTE:\n",
    "Trường hợp sử dụng đến toán tử này là để thực hiện phép toán bit-wise "
   ]
  },
  {
   "cell_type": "code",
   "execution_count": null,
   "metadata": {},
   "outputs": [
    {
     "data": {
      "text/plain": [
       "0"
      ]
     },
     "execution_count": 15,
     "metadata": {},
     "output_type": "execute_result"
    }
   ],
   "source": [
    "x = 10  # nhị phân 1010\n",
    "y = 4   # nhị phân 0100\n",
    "result = x & y  # = 0000 nên False, trong hệ thập phân là 0\n",
    "\n",
    "result"
   ]
  },
  {
   "cell_type": "markdown",
   "metadata": {},
   "source": [
    "- Bit 1 (bên phải cùng): 0 (từ x) và 0 (từ y) → Kết quả là 0.\n",
    "- Bit 2: 1 (từ x) và 0 (từ y) → Kết quả là 0.\n",
    "- Bit 3: 0 (từ x) và 1 (từ y) → Kết quả là 0.\n",
    "- Bit 4 (bên trái cùng): 1 (từ x) và 0 (từ y) → Kết quả là 0."
   ]
  },
  {
   "cell_type": "code",
   "execution_count": null,
   "metadata": {},
   "outputs": [
    {
     "data": {
      "text/plain": [
       "14"
      ]
     },
     "execution_count": 16,
     "metadata": {},
     "output_type": "execute_result"
    }
   ],
   "source": [
    "x = 10  # nhị phân 1010\n",
    "y = 4   # nhị phân 0100\n",
    "result = x | y  # = 1110 -> thập phân 14\n",
    "\n",
    "result"
   ]
  },
  {
   "cell_type": "markdown",
   "metadata": {},
   "source": [
    "- Bit 1 của x là 0 và bit 1 của y là 0 → Kết quả là 0\n",
    "- Bit 2 của x là 1 và bit 2 của y là 0 → Kết quả là 1 \n",
    "- Bit 3 của x là 0 và bit 3 của y là 1 → Kết quả là 1\n",
    "- Bit 4 của x là 1 và bit 4 của y là 0 → Kết quả là 1 "
   ]
  },
  {
   "cell_type": "markdown",
   "metadata": {},
   "source": [
    "# bảng or\n",
    "| bit của x | bit của y    | kết quả |\n",
    "|----------|-------------|---------|\n",
    "|    0     |      0      |    0    |\n",
    "| 0       | 1 | 1  |\n",
    "| 1     | 0 | 1   |\n",
    "| 1 | 1 | 1 |\n"
   ]
  },
  {
   "cell_type": "markdown",
   "metadata": {},
   "source": [
    "# bảng and\n",
    "| bit của x | bit của y    | kết quả |\n",
    "|----------|-------------|---------|\n",
    "|    0     |      0      |    0    |\n",
    "| 0       | 1 | 0 |\n",
    "| 1     | 0 | 0  |\n",
    "| 1 | 1 | 1 |"
   ]
  }
 ],
 "metadata": {
  "kernelspec": {
   "display_name": "Python 3",
   "language": "python",
   "name": "python3"
  },
  "language_info": {
   "codemirror_mode": {
    "name": "ipython",
    "version": 3
   },
   "file_extension": ".py",
   "mimetype": "text/x-python",
   "name": "python",
   "nbconvert_exporter": "python",
   "pygments_lexer": "ipython3",
   "version": "3.13.0"
  }
 },
 "nbformat": 4,
 "nbformat_minor": 2
}
