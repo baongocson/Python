{
 "cells": [
  {
   "cell_type": "markdown",
   "metadata": {},
   "source": [
    "# Tuples\n",
    "*Bộ giá trị*"
   ]
  },
  {
   "cell_type": "markdown",
   "metadata": {},
   "source": [
    "Bảng so sánh: \n",
    "\n",
    "| Đặc điểm            | List                     | Dictionary                        | Set                          | Tuple                           |\n",
    "|---------------------|--------------------------|-----------------------------------|------------------------------|---------------------------------|\n",
    "| **Cú pháp**         | `[item1, item2, ...]`    | `{'key1': value1, 'key2': value2}`| `{item1, item2, ...}`         | `(item1, item2, ...)` hoặc `item,` |\n",
    "| **Loại Dữ liệu**    | Dãy (Sequence)           | Bản đồ (Mapping)                 | Tập hợp (Set)                 | Dãy (Sequence)                  |\n",
    "| **Thứ tự** (Order)         | Có thứ tự (Ordered)      | Không có thứ tự (Unordered)       | Không có thứ tự (Unordered)   | Có thứ tự (Ordered)             |\n",
    "| **Chỉ mục** (Indexing)        | Có (theo chỉ mục)        | Có (theo khóa)                   | Không có                     | Có (theo chỉ mục)              |\n",
    "| **Giá trị trùng lặp** (Duplicate Values)| Cho phép                 | Giá trị có thể trùng lặp, khóa không thể trùng lặp | Không cho phép             | Cho phép                        |\n",
    "| **Tính biến đổi** (Mutability)   | Có thể thay đổi (Mutable)| Có thể thay đổi (Mutable)        | Có thể thay đổi (Mutable)     | Không thể thay đổi (Immutable)  |\n",
    "| **Sử dụng**         | Dùng cho một tập hợp các phần tử có thứ tự | Dùng cho các cặp khóa-giá trị   | Dùng cho các phần tử duy nhất | Dùng cho dữ liệu cố định        |"
   ]
  },
  {
   "cell_type": "markdown",
   "metadata": {},
   "source": [
    "## Notes\n",
    "\n",
    "* Dùng để lưu trữ nhiều giá trị trong một biến duy nhất giống như list và set ...\n",
    "* Đặc điểm:\n",
    "  * Có thứ tự\n",
    "  * **Không thể thay đổi được**\n",
    "* Được viết với `(` và `)` hoặc ` item,`\n",
    "\n",
    "## Importance\n",
    "\n",
    "* Đoạn code chạy nhanh hơn\n",
    "* Các chuỗi bất biến thường được sử dụng cho dữ liệu cố định, như tên cột hoặc tọa độ trong các biểu đồ Matplotlib\n",
    "\n",
    "## Ví dụ\n"
   ]
  },
  {
   "cell_type": "code",
   "execution_count": 2,
   "metadata": {},
   "outputs": [
    {
     "data": {
      "text/plain": [
       "('python', 'sql', 'statistics', 'tableau')"
      ]
     },
     "execution_count": 2,
     "metadata": {},
     "output_type": "execute_result"
    }
   ],
   "source": [
    "job_skills = ('python', 'sql', 'statistics', 'tableau')\n",
    "\n",
    "job_skills"
   ]
  },
  {
   "cell_type": "markdown",
   "metadata": {},
   "source": [
    "### Get item\n",
    "\n",
    "Lấy một phần tử từ tupl bằng cách sử dụng chỉ mục. Để lấy phần tử đầu tiên từ một tupl, chúng ta sẽ truy cập nó tại chỉ mục `0`.\n",
    "\n",
    "*Điều này tương tự như khi dùng list*"
   ]
  },
  {
   "cell_type": "code",
   "execution_count": null,
   "metadata": {},
   "outputs": [
    {
     "data": {
      "text/plain": [
       "'python'"
      ]
     },
     "execution_count": 3,
     "metadata": {},
     "output_type": "execute_result"
    }
   ],
   "source": [
    "job_skills[0]"
   ]
  },
  {
   "cell_type": "markdown",
   "metadata": {},
   "source": [
    "### Slicing"
   ]
  },
  {
   "cell_type": "code",
   "execution_count": null,
   "metadata": {},
   "outputs": [
    {
     "data": {
      "text/plain": [
       "('python', 'sql')"
      ]
     },
     "execution_count": 4,
     "metadata": {},
     "output_type": "execute_result"
    }
   ],
   "source": [
    "job_skills = ('python', 'sql', 'statistics', 'tableau')\n",
    "\n",
    "job_skills[:2]"
   ]
  },
  {
   "cell_type": "markdown",
   "metadata": {},
   "source": [
    "### Add Items\n",
    "\n",
    "Vì bộ giá trị (tuple) là bất biến (không thể thay đổi), nên nó không có phương thức `append()` tích hợp. Tuy nhiên, có hai cách để thực hiện:"
   ]
  },
  {
   "cell_type": "code",
   "execution_count": 12,
   "metadata": {},
   "outputs": [
    {
     "ename": "NameError",
     "evalue": "name 'job_skills' is not defined",
     "output_type": "error",
     "traceback": [
      "\u001b[1;31m---------------------------------------------------------------------------\u001b[0m",
      "\u001b[1;31mNameError\u001b[0m                                 Traceback (most recent call last)",
      "Cell \u001b[1;32mIn[12], line 1\u001b[0m\n\u001b[1;32m----> 1\u001b[0m \u001b[43mjob_skills\u001b[49m\u001b[38;5;241m.\u001b[39mappend(\u001b[38;5;124m'\u001b[39m\u001b[38;5;124mexcel\u001b[39m\u001b[38;5;124m'\u001b[39m)\n",
      "\u001b[1;31mNameError\u001b[0m: name 'job_skills' is not defined"
     ]
    }
   ],
   "source": [
    "job_skills.append('excel')"
   ]
  },
  {
   "cell_type": "markdown",
   "metadata": {},
   "source": [
    "**Cách 1: Chuyển tupl thành list**\n",
    "\n",
    "* Đầu tiên, chuyển tupl thành list\n",
    "* Sau đó, sử dụng phương thức `append()`\n",
    "* Cuối cùng, chuyển list trở lại thành tupl"
   ]
  },
  {
   "cell_type": "code",
   "execution_count": null,
   "metadata": {},
   "outputs": [
    {
     "data": {
      "text/plain": [
       "('python', 'sql', 'statistics', 'tableau', 'excel')"
      ]
     },
     "metadata": {},
     "output_type": "display_data"
    }
   ],
   "source": [
    "job_skills_list = list(job_skills)\n",
    "\n",
    "job_skills_list.append('excel')\n",
    "\n",
    "job_skills_tuple = tuple(job_skills_list)\n",
    "\n",
    "job_skills_tuple"
   ]
  },
  {
   "cell_type": "markdown",
   "metadata": {},
   "source": [
    "**Cách 2: Thêm tupl vào tupl**\n",
    "* Tạo một tupl mới chứa các phần tử cần thêm\n",
    "* Thêm nó vào tupl hiện có"
   ]
  },
  {
   "cell_type": "code",
   "execution_count": 6,
   "metadata": {},
   "outputs": [
    {
     "data": {
      "text/plain": [
       "('r', 'postgresql')"
      ]
     },
     "execution_count": 6,
     "metadata": {},
     "output_type": "execute_result"
    }
   ],
   "source": [
    "job_skills_new_tuple = ('r', 'postgresql',)\n",
    "job_skills += job_skills_new_tuple\n",
    "\n",
    "job_skills_new_tuple"
   ]
  },
  {
   "cell_type": "code",
   "execution_count": 7,
   "metadata": {},
   "outputs": [
    {
     "data": {
      "text/plain": [
       "('python', 'sql', 'statistics', 'tableau', 'r', 'postgresql')"
      ]
     },
     "execution_count": 7,
     "metadata": {},
     "output_type": "execute_result"
    }
   ],
   "source": [
    "job_skills"
   ]
  },
  {
   "cell_type": "markdown",
   "metadata": {},
   "source": [
    "Nếu mình chạy lại toàn bộ ô (dưới đây) với biến đúng được gọi ở cuối, mình sẽ vô tình thêm một bộ giá trị vào tuplhiện tại và tạo ra các phần tử trùng lặp. Điều này xảy ra vì mình đang thêm tuplvào tuplhiện tại với các dòng mã sau:\n",
    "\n",
    "```python\n",
    "job_skills_new_tuple = ('r', 'postgresql',)\n",
    "job_skills += job_skills_new_tuple\n"
   ]
  },
  {
   "cell_type": "code",
   "execution_count": null,
   "metadata": {},
   "outputs": [
    {
     "data": {
      "text/plain": [
       "('python',\n",
       " 'sql',\n",
       " 'statistics',\n",
       " 'tableau',\n",
       " 'r',\n",
       " 'postgresql',\n",
       " 'r',\n",
       " 'postgresql')"
      ]
     },
     "metadata": {},
     "output_type": "display_data"
    }
   ],
   "source": [
    "job_skills_new_tuple = ('r', 'postgresql',)\n",
    "job_skills += job_skills_new_tuple\n",
    "\n",
    "job_skills"
   ]
  },
  {
   "cell_type": "markdown",
   "metadata": {},
   "source": [
    "### Join()\n",
    "\n",
    "Đối với list phương thức `.join` được sử dụng để nối một chuỗi các chuỗi lại với nhau bằng một dấu phân cách cụ thể. Dể sử dụng cần thêm một dấu phân cách cụ thể (ví dụ: `', '`) giữa mỗi phần tử trong quá trình nối.\n",
    "\n",
    "Đối với tuple, thì nó sẽ kết hợp nhiều chuỗi từ một tupl."
   ]
  },
  {
   "cell_type": "code",
   "execution_count": 8,
   "metadata": {},
   "outputs": [],
   "source": [
    "skills = ('Python', 'SQL', 'Excel')"
   ]
  },
  {
   "cell_type": "code",
   "execution_count": null,
   "metadata": {},
   "outputs": [
    {
     "name": "stdout",
     "output_type": "stream",
     "text": [
      "I have these skills: Python, SQL, Excel\n"
     ]
    }
   ],
   "source": [
    "print(f'I have these skills: {\", \".join(skills)}')"
   ]
  },
  {
   "cell_type": "markdown",
   "metadata": {},
   "source": [
    "### Remove Items\n",
    "\n",
    "Vì tuple là **không thể thay đổi** , nên không thể xóa phần tử trong đó. Tuy nhiên, mình lại có thể sử dụng một cách giải quyết tương tự như ta đã làm khi thay đổi và thêm phần tử vào tupl."
   ]
  },
  {
   "cell_type": "code",
   "execution_count": 10,
   "metadata": {},
   "outputs": [
    {
     "ename": "AttributeError",
     "evalue": "'tuple' object has no attribute 'remove'",
     "output_type": "error",
     "traceback": [
      "\u001b[1;31m---------------------------------------------------------------------------\u001b[0m",
      "\u001b[1;31mAttributeError\u001b[0m                            Traceback (most recent call last)",
      "Cell \u001b[1;32mIn[10], line 1\u001b[0m\n\u001b[1;32m----> 1\u001b[0m \u001b[43mskills\u001b[49m\u001b[38;5;241;43m.\u001b[39;49m\u001b[43mremove\u001b[49m(\u001b[38;5;124m'\u001b[39m\u001b[38;5;124mExcel\u001b[39m\u001b[38;5;124m'\u001b[39m)\n",
      "\u001b[1;31mAttributeError\u001b[0m: 'tuple' object has no attribute 'remove'"
     ]
    }
   ],
   "source": [
    "skills.remove('Excel')"
   ]
  },
  {
   "cell_type": "markdown",
   "metadata": {},
   "source": [
    "#### Remove()\n",
    "\n",
    "Chuyển tupl thành danh sách, xóa phần tử bằng phương thức `remove()`, và sau đó chuyển lại thành tupl."
   ]
  },
  {
   "cell_type": "code",
   "execution_count": null,
   "metadata": {},
   "outputs": [
    {
     "data": {
      "text/plain": [
       "('python', 'sql', 'statistics', 'r', 'postgresql', 'r', 'postgresql')"
      ]
     },
     "metadata": {},
     "output_type": "display_data"
    }
   ],
   "source": [
    "#chuyển về list\n",
    "job_skills_remove = list(job_skills)\n",
    "\n",
    "job_skills_remove.remove('tableau')\n",
    " #chuyển về lại tupl\n",
    "job_skills_tuple = tuple(job_skills_remove)\n",
    "\n",
    "job_skills_tuple\n"
   ]
  },
  {
   "cell_type": "markdown",
   "metadata": {},
   "source": [
    "#### Del\n",
    "\n",
    "Hoặc có thể sử dụng từ khóa `del` để xóa toàn bộ tupl. Nếu ta cố gắng hiển thị `job_skills` sau khi xóa nó, sẽ xuất hiện.  lỗi. có nghĩa là tupl này đã bị xóa mất khỏi dòng code"
   ]
  },
  {
   "cell_type": "code",
   "execution_count": 11,
   "metadata": {},
   "outputs": [
    {
     "ename": "NameError",
     "evalue": "name 'job_skills' is not defined",
     "output_type": "error",
     "traceback": [
      "\u001b[1;31m---------------------------------------------------------------------------\u001b[0m",
      "\u001b[1;31mNameError\u001b[0m                                 Traceback (most recent call last)",
      "Cell \u001b[1;32mIn[11], line 2\u001b[0m\n\u001b[0;32m      1\u001b[0m \u001b[38;5;28;01mdel\u001b[39;00m job_skills\n\u001b[1;32m----> 2\u001b[0m \u001b[43mjob_skills\u001b[49m\n",
      "\u001b[1;31mNameError\u001b[0m: name 'job_skills' is not defined"
     ]
    }
   ],
   "source": [
    "del job_skills\n",
    "job_skills"
   ]
  },
  {
   "cell_type": "markdown",
   "metadata": {},
   "source": [
    "## range()\n",
    "\n",
    "list, dict, set, tupl không phải là các kiểu dữ liệu container duy nhất.\n",
    "\n",
    "Hàm `range()` tạo ra một chuỗi số. Nó thường được sử dụng để lặp qua một số lần cụ thể trong các vòng lặp `for`.\n"
   ]
  },
  {
   "cell_type": "code",
   "execution_count": 13,
   "metadata": {},
   "outputs": [
    {
     "data": {
      "text/plain": [
       "range(0, 5)"
      ]
     },
     "execution_count": 13,
     "metadata": {},
     "output_type": "execute_result"
    }
   ],
   "source": [
    "range(5)"
   ]
  },
  {
   "cell_type": "markdown",
   "metadata": {},
   "source": [
    "## Notes:\n",
    "* `range()` không phải là một tuple, mà là một kiểu dữ liệu riêng; nhưng nó rất gần và ngắn gọn"
   ]
  },
  {
   "cell_type": "code",
   "execution_count": null,
   "metadata": {},
   "outputs": [
    {
     "data": {
      "text/plain": [
       "range"
      ]
     },
     "metadata": {},
     "output_type": "display_data"
    }
   ],
   "source": [
    "type(range(5))"
   ]
  },
  {
   "cell_type": "markdown",
   "metadata": {},
   "source": [
    "Hãy xem bên trong đối tượng này bằng cách chuyển nó thành một tuple."
   ]
  },
  {
   "cell_type": "code",
   "execution_count": null,
   "metadata": {},
   "outputs": [
    {
     "data": {
      "text/plain": [
       "(0, 1, 2, 3, 4)"
      ]
     },
     "metadata": {},
     "output_type": "display_data"
    }
   ],
   "source": [
    "tuple(range(5))"
   ]
  },
  {
   "cell_type": "markdown",
   "metadata": {},
   "source": [
    "Cú pháp: Hàm `range()` có thể được gọi với một, hai hoặc ba tham số:\n",
    "* `range(stop)`: Tạo ra các số từ 0 đến stop - 1 \n",
    "* `range(start, stop)`: Tạo ra các số từ start đến stop - 1\n",
    "* `range(start, stop, step)`: Tạo ra các số từ start đến stop - 1 với bước nhảy step"
   ]
  },
  {
   "cell_type": "code",
   "execution_count": null,
   "metadata": {},
   "outputs": [
    {
     "data": {
      "text/plain": [
       "[2, 3, 4]"
      ]
     },
     "metadata": {},
     "output_type": "display_data"
    }
   ],
   "source": [
    "list(range(2,5))"
   ]
  },
  {
   "cell_type": "code",
   "execution_count": 15,
   "metadata": {},
   "outputs": [
    {
     "data": {
      "text/plain": [
       "[0,\n",
       " 2,\n",
       " 4,\n",
       " 6,\n",
       " 8,\n",
       " 10,\n",
       " 12,\n",
       " 14,\n",
       " 16,\n",
       " 18,\n",
       " 20,\n",
       " 22,\n",
       " 24,\n",
       " 26,\n",
       " 28,\n",
       " 30,\n",
       " 32,\n",
       " 34,\n",
       " 36,\n",
       " 38,\n",
       " 40,\n",
       " 42,\n",
       " 44,\n",
       " 46,\n",
       " 48]"
      ]
     },
     "execution_count": 15,
     "metadata": {},
     "output_type": "execute_result"
    }
   ],
   "source": [
    "list(range(0, 50, 2))"
   ]
  }
 ],
 "metadata": {
  "kernelspec": {
   "display_name": "Python 3",
   "language": "python",
   "name": "python3"
  },
  "language_info": {
   "codemirror_mode": {
    "name": "ipython",
    "version": 3
   },
   "file_extension": ".py",
   "mimetype": "text/x-python",
   "name": "python",
   "nbconvert_exporter": "python",
   "pygments_lexer": "ipython3",
   "version": "3.13.0"
  }
 },
 "nbformat": 4,
 "nbformat_minor": 2
}
