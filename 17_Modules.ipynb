{
 "cells": [
  {
   "cell_type": "markdown",
   "metadata": {},
   "source": [
    "# Modules\n",
    "\n",
    "- Module có thể gọi là thư viện mã nguồn\n",
    "- Là một tệp chứa tập hợp các hàm mà mình thêm vào"
   ]
  },
  {
   "cell_type": "markdown",
   "metadata": {},
   "source": [
    "## Cách tạo một Module\n",
    "\n",
    "### Notes\n",
    "\n",
    "- Dòng lệnh `%%writefile name_module.py` được sử dụng trong Jupyter Notebook để tạo hoặc ghi nội dung vào một tệp\n",
    "- Đảm bảo dòng `%%writefile name_module.py` là dòng đầu tiên của bài code và không ghi chú hay bất kì thứ gì trên đó"
   ]
  },
  {
   "cell_type": "code",
   "execution_count": 9,
   "metadata": {},
   "outputs": [
    {
     "name": "stdout",
     "output_type": "stream",
     "text": [
      "Overwriting my_module.py\n"
     ]
    }
   ],
   "source": [
    "%%writefile my_module.py\n",
    "\n",
    "skill_list = ['Python', 'SQL', 'Excel']"
   ]
  },
  {
   "cell_type": "markdown",
   "metadata": {},
   "source": [
    "Để sử dụng module thì dùng `import`"
   ]
  },
  {
   "cell_type": "code",
   "execution_count": 10,
   "metadata": {},
   "outputs": [
    {
     "data": {
      "text/plain": [
       "['Python', 'SQL', 'Excel']"
      ]
     },
     "execution_count": 10,
     "metadata": {},
     "output_type": "execute_result"
    }
   ],
   "source": [
    "import my_module\n",
    "\n",
    "my_module.skill_list"
   ]
  },
  {
   "cell_type": "markdown",
   "metadata": {},
   "source": [
    "Trong module có thể là bất cứ lệnh nào, có thể tạo một function trong cái module đó"
   ]
  },
  {
   "cell_type": "code",
   "execution_count": 11,
   "metadata": {},
   "outputs": [
    {
     "name": "stdout",
     "output_type": "stream",
     "text": [
      "Overwriting my_module2.py\n"
     ]
    }
   ],
   "source": [
    "%%writefile my_module2.py\n",
    "\n",
    "skill_list = ['Python', 'SQL', 'Excel']\n",
    "\n",
    "def skill(skill_name):\n",
    "    return f\"{skill_name} is my favorite skill!\""
   ]
  },
  {
   "cell_type": "code",
   "execution_count": 12,
   "metadata": {},
   "outputs": [
    {
     "name": "stdout",
     "output_type": "stream",
     "text": [
      "Python is my favorite skill!\n"
     ]
    }
   ],
   "source": [
    "import my_module2\n",
    "\n",
    "# Gọi hàm trong module \n",
    "print(my_module2.skill('Python'))  "
   ]
  },
  {
   "cell_type": "markdown",
   "metadata": {},
   "source": [
    "# Ví dụ"
   ]
  },
  {
   "cell_type": "code",
   "execution_count": 13,
   "metadata": {},
   "outputs": [
    {
     "name": "stdout",
     "output_type": "stream",
     "text": [
      "Overwriting job_analyzer.py\n"
     ]
    }
   ],
   "source": [
    "%%writefile job_analyzer.py\n",
    "\n",
    "def calculate_salary(base_salary, bonus_rate=.1):\n",
    "''' \n",
    "base_salary (float): Lương cơ bản.\n",
    "bonus_rate (float): Tỷ lệ thưởng, mặc định là 0.1.\n",
    "'''\n",
    "  return base_salary * (1 + bonus_rate)\n",
    "\n",
    "def calculate_bonus(total_salary, base_salary):\n",
    "'''\n",
    "total_salary (float)**: Tổng lương.\n",
    "base_salary (float)**: Lương cơ bản.\n",
    "'''\n",
    "  return (total_salary - base_salary) / base_salary"
   ]
  },
  {
   "cell_type": "markdown",
   "metadata": {},
   "source": [
    "## Truy cập vào module\n",
    "\n",
    "- module do mình tự đặt\n",
    "- module có sẵn trong python"
   ]
  },
  {
   "cell_type": "markdown",
   "metadata": {},
   "source": [
    "### Sử dụng module do mình tự tạo\n",
    "\n",
    "#### Notes\n",
    "\n",
    "- Cú pháp `module_name.function-name()`\n",
    "\n",
    "#### Ví dụ"
   ]
  },
  {
   "cell_type": "code",
   "execution_count": 14,
   "metadata": {},
   "outputs": [
    {
     "ename": "IndentationError",
     "evalue": "expected an indented block after function definition on line 2 (job_analyzer.py, line 3)",
     "output_type": "error",
     "traceback": [
      "Traceback \u001b[1;36m(most recent call last)\u001b[0m:\n",
      "\u001b[0m  File \u001b[0;32m~\\AppData\\Roaming\\Python\\Python313\\site-packages\\IPython\\core\\interactiveshell.py:3577\u001b[0m in \u001b[0;35mrun_code\u001b[0m\n    exec(code_obj, self.user_global_ns, self.user_ns)\u001b[0m\n",
      "\u001b[1;36m  Cell \u001b[1;32mIn[14], line 1\u001b[1;36m\n\u001b[1;33m    import job_analyzer\u001b[1;36m\n",
      "\u001b[1;36m  File \u001b[1;32mc:\\python\\Python_Data_Analytics\\job_analyzer.py:3\u001b[1;36m\u001b[0m\n\u001b[1;33m    '''\u001b[0m\n\u001b[1;37m    ^\u001b[0m\n\u001b[1;31mIndentationError\u001b[0m\u001b[1;31m:\u001b[0m expected an indented block after function definition on line 2\n"
     ]
    }
   ],
   "source": [
    "import job_analyzer\n",
    "\n",
    "job_analyzer.calculate_salary(100000)"
   ]
  },
  {
   "cell_type": "markdown",
   "metadata": {},
   "source": [
    "## **Các Module Thư Viện Chuẩn Python**\n",
    "\n",
    "#### **Notes**\n",
    "\n",
    "* Python có nhiều module chuẩn.\n",
    "* Dưới đây là một số module phổ biến:\n",
    "    * **os**: Cung cấp các hàm để tương tác với hệ điều hành, như thao tác với tệp.\n",
    "    * **sys**: Cung cấp quyền truy cập vào các biến được sử dụng hoặc duy trì bởi trình thông dịch Python và các hàm tương tác chặt chẽ với trình thông dịch.\n",
    "    * **math**: Chứa các hàm toán học như các hàm lượng giác, logarithm, v.v.\n",
    "    * **random**: Cho phép tạo số ngẫu nhiên.\n",
    "    * **datetime**: Cung cấp các lớp để thao tác với ngày và giờ.\n",
    "    * **json**: Cung cấp các hàm mã hóa và giải mã dữ liệu JSON.\n",
    "    * **csv**: Cung cấp các lớp để đọc và ghi dữ liệu dạng bảng trong định dạng CSV.\n",
    "    * **re**: Hỗ trợ biểu thức chính quy để so khớp và thao tác với mẫu.\n",
    "* Trong khóa học này, chúng ta sẽ tìm hiểu về: `random`, `datetime` và một số thư viện của bên thứ ba.\n",
    "\n",
    "#### [**Mã nguồn của Thư viện**](https://github.com/python/cpython/tree/3.12/Lib)"
   ]
  },
  {
   "cell_type": "markdown",
   "metadata": {},
   "source": [
    "#### Những thư viện có sẵn trong python"
   ]
  },
  {
   "cell_type": "code",
   "execution_count": null,
   "metadata": {},
   "outputs": [
    {
     "name": "stdout",
     "output_type": "stream",
     "text": [
      "('_abc', '_ast', '_bisect', '_blake2', '_codecs', '_codecs_cn', '_codecs_hk', '_codecs_iso2022', '_codecs_jp', '_codecs_kr', '_codecs_tw', '_collections', '_contextvars', '_csv', '_datetime', '_functools', '_heapq', '_imp', '_interpchannels', '_interpqueues', '_interpreters', '_io', '_json', '_locale', '_lsprof', '_md5', '_multibytecodec', '_opcode', '_operator', '_pickle', '_random', '_sha1', '_sha2', '_sha3', '_signal', '_sre', '_stat', '_statistics', '_string', '_struct', '_symtable', '_sysconfig', '_thread', '_tokenize', '_tracemalloc', '_typing', '_warnings', '_weakref', '_winapi', 'array', 'atexit', 'binascii', 'builtins', 'cmath', 'errno', 'faulthandler', 'gc', 'itertools', 'marshal', 'math', 'mmap', 'msvcrt', 'nt', 'sys', 'time', 'winreg', 'xxsubtype', 'zlib')\n"
     ]
    }
   ],
   "source": [
    "import sys\n",
    "print(sys.builtin_module_names)"
   ]
  },
  {
   "cell_type": "markdown",
   "metadata": {},
   "source": [
    "### Ví dụ\n",
    "\n",
    "### Notes:\n",
    "-`The statistics module` trong Python cung cấp các hàm để tính toán các phép toán thống kê cơ bản như trung bình, phương sai, độ lệch chuẩn..."
   ]
  },
  {
   "cell_type": "code",
   "execution_count": null,
   "metadata": {},
   "outputs": [
    {
     "name": "stdout",
     "output_type": "stream",
     "text": [
      "Mean: 99400\n",
      "Median: 99000\n",
      "Mode: 98000\n"
     ]
    }
   ],
   "source": [
    "import statistics\n",
    "\n",
    "salary_list = [98000, 101000, 102000, 99000, 97000]\n",
    "\n",
    "mean = statistics.mean(salary_list)\n",
    "median = statistics.median(salary_list)\n",
    "mode = statistics.mode(salary_list)\n",
    "\n",
    "print(f'Mean: {mean}')\n",
    "print(f'Median: {median}')\n",
    "print(f'Mode: {mode}')"
   ]
  },
  {
   "cell_type": "markdown",
   "metadata": {},
   "source": [
    "## Import"
   ]
  },
  {
   "cell_type": "code",
   "execution_count": null,
   "metadata": {},
   "outputs": [],
   "source": [
    "import pandas"
   ]
  },
  {
   "cell_type": "markdown",
   "metadata": {},
   "source": [
    "Để làm việc hiệu quả hơn thì dùng `as` để gán tên cho cái module mình đang sử dụng. Nó vừa nhanh vừa tiện lợi cho việc code và dễ nhìn hơn"
   ]
  },
  {
   "cell_type": "code",
   "execution_count": null,
   "metadata": {},
   "outputs": [],
   "source": [
    "import pandas as pd"
   ]
  },
  {
   "cell_type": "markdown",
   "metadata": {},
   "source": [
    "### `import` và `from`:\n",
    "\n",
    "| **Câu lệnh**                         | **Ý nghĩa**                                                | **Ví dụ**                                           |\n",
    "|--------------------------------------|-----------------------------------------------------------|----------------------------------------------------|\n",
    "| `import module_name`                | Nhập toàn bộ module và sử dụng `module_name.function()`   | `import math`<br> `math.sqrt(16)`                  |\n",
    "| `from module_name import item`      | Nhập một phần cụ thể của module                           | `from math import sqrt`<br> `sqrt(16)`             |\n",
    "| `from module_name import *`         | Nhập tất cả các thành phần từ module                      | `from math import *`<br> `sqrt(16)`                |\n",
    "| `import module_name as alias`       | Nhập module và đổi tên ngắn gọn                            | `import math as m`<br> `m.sqrt(16)`                |\n",
    "| `from module_name import item as alias` | Nhập một phần cụ thể và đổi tên ngắn gọn                  | `from math import sqrt as s`<br> `s(16)`           |"
   ]
  }
 ],
 "metadata": {
  "kernelspec": {
   "display_name": "Python 3",
   "language": "python",
   "name": "python3"
  },
  "language_info": {
   "codemirror_mode": {
    "name": "ipython",
    "version": 3
   },
   "file_extension": ".py",
   "mimetype": "text/x-python",
   "name": "python",
   "nbconvert_exporter": "python",
   "pygments_lexer": "ipython3",
   "version": "3.13.0"
  }
 },
 "nbformat": 4,
 "nbformat_minor": 2
}
