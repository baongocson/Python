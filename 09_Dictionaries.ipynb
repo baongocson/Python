{
 "cells": [
  {
   "cell_type": "markdown",
   "metadata": {},
   "source": [
    "# **Dictionaries** \n",
    "\n",
    "Bảng so sánh: \n",
    "\n",
    "| Đặc điểm            | List                     | Dictionary                        | Set                          | Tuple                           |\n",
    "|---------------------|--------------------------|-----------------------------------|------------------------------|---------------------------------|\n",
    "| **Cú pháp**         | `[item1, item2, ...]`    | `{'key1': value1, 'key2': value2}`| `{item1, item2, ...}`         | `(item1, item2, ...)` hoặc `item,` |\n",
    "| **Loại Dữ liệu**    | Dãy (Sequence)           | Bản đồ (Mapping)                 | Tập hợp (Set)                 | Dãy (Sequence)                  |\n",
    "| **Thứ tự** (Order)         | Có thứ tự (Ordered)      | Không có thứ tự (Unordered)       | Không có thứ tự (Unordered)   | Có thứ tự (Ordered)             |\n",
    "| **Chỉ mục** (Indexing)        | Có (theo chỉ mục)        | Có (theo khóa)                   | Không có                     | Có (theo chỉ mục)              |\n",
    "| **Giá trị trùng lặp** (Duplicate Values)| Cho phép                 | Giá trị có thể trùng lặp, khóa không thể trùng lặp | Không cho phép             | Cho phép                        |\n",
    "| **Tính biến đổi** (Mutability)   | Có thể thay đổi (Mutable)| Có thể thay đổi (Mutable)        | Có thể thay đổi (Mutable)     | Không thể thay đổi (Immutable)  |\n",
    "| **Sử dụng**         | Dùng cho một tập hợp các phần tử có thứ tự | Dùng cho các cặp khóa-giá trị   | Dùng cho các phần tử duy nhất | Dùng cho dữ liệu cố định        |"
   ]
  },
  {
   "cell_type": "markdown",
   "metadata": {},
   "source": [
    "### **Notes**\n",
    "- Dùng để lưu trữ các cặp giá trị theo định dạng **khóa:giá trị**.\n",
    "- Đặc điểm:\n",
    "  - Có thứ tự (từ phiên bản Python 3.7 trở đi).\n",
    "  - Có thể thay đổi.\n",
    "  - Không cho phép các giá trị khóa trùng lặp.\n",
    "- Được tạo bằng `{}` với các **khóa** và **giá trị**.\n",
    "\n",
    "### **Importance**\n",
    "- Hữu ích để gắn nhãn dữ liệu hoặc tạo các DataFrame trong pandas (thường là tệp .CSV) với các cột được đặt tên, giúp tăng khả năng đọc và hiểu dữ liệu."
   ]
  },
  {
   "cell_type": "markdown",
   "metadata": {},
   "source": [
    "### Tạo một Dictionary\n",
    "Dưới đây sẽ là tạo một dictionary về các loại kỹ năng trong khoa học dữ liệu. Ví dụ, 'postgresql' được coi là một kỹ năng về 'cơ sở dữ liệu'. Loại kỹ năng sẽ là **khóa**, và kỹ năng cụ thể sẽ là **giá trị**.\n",
    "- cú pháp: `name_dict = { 'key_1': 'value_1', 'key_2': 'value_2'...\n",
    "}`"
   ]
  },
  {
   "cell_type": "code",
   "execution_count": 56,
   "metadata": {},
   "outputs": [
    {
     "data": {
      "text/plain": [
       "{'database': 'postgresql', 'language': 'python', 'library': 'pandas'}"
      ]
     },
     "execution_count": 56,
     "metadata": {},
     "output_type": "execute_result"
    }
   ],
   "source": [
    "job_type_skills = {\n",
    "    'database': 'postgresql',\n",
    "    'language': 'python',\n",
    "    'library': 'pandas'\n",
    "}\n",
    "\n",
    "job_type_skills"
   ]
  },
  {
   "cell_type": "markdown",
   "metadata": {},
   "source": [
    "### **Get Items** \n",
    "Có 2 cách để lấy một mục trong `dict`"
   ]
  },
  {
   "cell_type": "markdown",
   "metadata": {},
   "source": [
    "#### **Get key**\n",
    "- Tham chiếu đến tên khóa bên trong dấu ngoặc vuông."
   ]
  },
  {
   "cell_type": "code",
   "execution_count": 57,
   "metadata": {},
   "outputs": [
    {
     "data": {
      "text/plain": [
       "'python'"
      ]
     },
     "execution_count": 57,
     "metadata": {},
     "output_type": "execute_result"
    }
   ],
   "source": [
    "job_type_skills = {\n",
    "    'database': 'postgresql',\n",
    "    'language': 'python',\n",
    "    'library': 'pandas'\n",
    "}\n",
    "\n",
    "job_type_skills['language']"
   ]
  },
  {
   "cell_type": "markdown",
   "metadata": {},
   "source": [
    "- Hoặc sử dụng `.get()` để lấy giá trị trong một khóa cụ thể"
   ]
  },
  {
   "cell_type": "code",
   "execution_count": 58,
   "metadata": {},
   "outputs": [
    {
     "data": {
      "text/plain": [
       "'python'"
      ]
     },
     "execution_count": 58,
     "metadata": {},
     "output_type": "execute_result"
    }
   ],
   "source": [
    "job_type_skills.get('language')"
   ]
  },
  {
   "cell_type": "markdown",
   "metadata": {},
   "source": [
    "- Nếu muốn xem tất cả các khóa trong dict thì dùng `.keys()`"
   ]
  },
  {
   "cell_type": "code",
   "execution_count": 59,
   "metadata": {},
   "outputs": [
    {
     "data": {
      "text/plain": [
       "dict_keys(['database', 'language', 'library'])"
      ]
     },
     "execution_count": 59,
     "metadata": {},
     "output_type": "execute_result"
    }
   ],
   "source": [
    "job_type_skills.keys() "
   ]
  },
  {
   "cell_type": "markdown",
   "metadata": {},
   "source": [
    "- Nếu khóa không tồn tại, thay vì code trả về `None` mình có thể chỉ định một giá trị mặc định để nó trả về "
   ]
  },
  {
   "cell_type": "code",
   "execution_count": 60,
   "metadata": {},
   "outputs": [
    {
     "name": "stdout",
     "output_type": "stream",
     "text": [
      "None\n"
     ]
    }
   ],
   "source": [
    "print(job_type_skills.get('analytics'))"
   ]
  },
  {
   "cell_type": "code",
   "execution_count": 61,
   "metadata": {},
   "outputs": [
    {
     "data": {
      "text/plain": [
       "'not found'"
      ]
     },
     "execution_count": 61,
     "metadata": {},
     "output_type": "execute_result"
    }
   ],
   "source": [
    "job_type_skills.get('analytics', 'not found')"
   ]
  },
  {
   "cell_type": "markdown",
   "metadata": {},
   "source": [
    "#### **Value()**\n",
    "- Nếu muốn xem tất cả **giá trị** có tronng dict, mình dùng `.values()`"
   ]
  },
  {
   "cell_type": "code",
   "execution_count": 62,
   "metadata": {},
   "outputs": [
    {
     "data": {
      "text/plain": [
       "dict_values(['postgresql', 'python', 'pandas'])"
      ]
     },
     "execution_count": 62,
     "metadata": {},
     "output_type": "execute_result"
    }
   ],
   "source": [
    "job_type_skills.values()"
   ]
  },
  {
   "cell_type": "markdown",
   "metadata": {},
   "source": [
    "#### **Items()**\n",
    "- Trả về tất cả cặp `key: value` có trong dict"
   ]
  },
  {
   "cell_type": "code",
   "execution_count": 63,
   "metadata": {},
   "outputs": [
    {
     "data": {
      "text/plain": [
       "dict_items([('database', 'postgresql'), ('language', 'python'), ('library', 'pandas')])"
      ]
     },
     "execution_count": 63,
     "metadata": {},
     "output_type": "execute_result"
    }
   ],
   "source": [
    "job_type_skills.items()"
   ]
  },
  {
   "cell_type": "markdown",
   "metadata": {},
   "source": [
    "#### **Pop()**\n",
    "- Để loại bỏ một khóa khỏi dict và trả về giá trị của nó, sử dụng `.pop()`."
   ]
  },
  {
   "cell_type": "code",
   "execution_count": 64,
   "metadata": {},
   "outputs": [
    {
     "data": {
      "text/plain": [
       "'pandas'"
      ]
     },
     "execution_count": 64,
     "metadata": {},
     "output_type": "execute_result"
    }
   ],
   "source": [
    "job_type_skills.pop('library')"
   ]
  },
  {
   "cell_type": "code",
   "execution_count": 65,
   "metadata": {},
   "outputs": [
    {
     "data": {
      "text/plain": [
       "{'database': 'postgresql', 'language': 'python'}"
      ]
     },
     "execution_count": 65,
     "metadata": {},
     "output_type": "execute_result"
    }
   ],
   "source": [
    "job_type_skills"
   ]
  },
  {
   "cell_type": "markdown",
   "metadata": {},
   "source": [
    "### **Add Items**\n",
    "Có thể thêm mục vào dictionary bằng một trong hai cách:\n",
    "\n",
    "#### **Gán trực tiếp**\n",
    "- Gán trực tiếp giá trị cho một khóa mới hoặc đã tồn tại."
   ]
  },
  {
   "cell_type": "code",
   "execution_count": 66,
   "metadata": {},
   "outputs": [
    {
     "data": {
      "text/plain": [
       "{'database': 'postgresql', 'language': 'python', 'framework': 'flask'}"
      ]
     },
     "execution_count": 66,
     "metadata": {},
     "output_type": "execute_result"
    }
   ],
   "source": [
    "job_type_skills['framework'] = 'flask'\n",
    "\n",
    "job_type_skills"
   ]
  },
  {
   "cell_type": "markdown",
   "metadata": {},
   "source": [
    "### **Update()**\n",
    "- Sử dụng phương thức `update()` để thêm nhiều mục cùng lúc.\n",
    "- sử dụng phương thức `update()` với một khóa đã tồn tại trong dict, nó sẽ thay thế giá trị cũ của khóa đó bằng giá trị mới mà mình cung cấp"
   ]
  },
  {
   "cell_type": "code",
   "execution_count": 67,
   "metadata": {},
   "outputs": [
    {
     "data": {
      "text/plain": [
       "{'database': 'postgresql',\n",
       " 'language': 'python',\n",
       " 'framework': 'flask',\n",
       " 'cloud': 'google cloud',\n",
       " 'version_control': 'git'}"
      ]
     },
     "execution_count": 67,
     "metadata": {},
     "output_type": "execute_result"
    }
   ],
   "source": [
    "job_type_skills.update({'cloud': 'google cloud', 'version_control': 'git'})\n",
    "\n",
    "job_type_skills"
   ]
  },
  {
   "cell_type": "markdown",
   "metadata": {},
   "source": [
    "### **Bất kì đối tượng nào cũng cố thể được lưu trữ bên trong đict**"
   ]
  },
  {
   "cell_type": "code",
   "execution_count": 69,
   "metadata": {},
   "outputs": [
    {
     "data": {
      "text/plain": [
       "{'database': 'postgresql',\n",
       " 'language': ['python', 'r'],\n",
       " 'framework': 'flask',\n",
       " 'cloud': ('icloud', 8386),\n",
       " 'version_control': 'git'}"
      ]
     },
     "execution_count": 69,
     "metadata": {},
     "output_type": "execute_result"
    }
   ],
   "source": [
    "job_type_skills.update({'language': ['python', 'r'], 'cloud': ('icloud', 8386)})\n",
    "\n",
    "job_type_skills"
   ]
  }
 ],
 "metadata": {
  "kernelspec": {
   "display_name": "Python 3",
   "language": "python",
   "name": "python3"
  },
  "language_info": {
   "codemirror_mode": {
    "name": "ipython",
    "version": 3
   },
   "file_extension": ".py",
   "mimetype": "text/x-python",
   "name": "python",
   "nbconvert_exporter": "python",
   "pygments_lexer": "ipython3",
   "version": "3.13.0"
  }
 },
 "nbformat": 4,
 "nbformat_minor": 2
}
